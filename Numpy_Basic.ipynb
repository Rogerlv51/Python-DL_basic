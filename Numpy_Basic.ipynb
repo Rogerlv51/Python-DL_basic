{
 "cells": [
  {
   "cell_type": "code",
   "execution_count": 1,
   "metadata": {
    "executionInfo": {
     "elapsed": 421,
     "status": "ok",
     "timestamp": 1641285551965,
     "user": {
      "displayName": "James Roger",
      "photoUrl": "https://lh3.googleusercontent.com/a-/AOh14Gg70YaTQVGbzM-Bad9qA0lbjkRJCYS8YLs18wWH_g=s64",
      "userId": "06136541211222501905"
     },
     "user_tz": -480
    },
    "id": "TLsNVlU4POx8"
   },
   "outputs": [],
   "source": [
    "import numpy as np"
   ]
  },
  {
   "cell_type": "code",
   "execution_count": 2,
   "metadata": {
    "colab": {
     "base_uri": "https://localhost:8080/"
    },
    "executionInfo": {
     "elapsed": 11,
     "status": "ok",
     "timestamp": 1641285760556,
     "user": {
      "displayName": "James Roger",
      "photoUrl": "https://lh3.googleusercontent.com/a-/AOh14Gg70YaTQVGbzM-Bad9qA0lbjkRJCYS8YLs18wWH_g=s64",
      "userId": "06136541211222501905"
     },
     "user_tz": -480
    },
    "id": "5M2CE42DPhF4",
    "outputId": "419c87d3-7692-4d0b-c299-8562b601c9a6"
   },
   "outputs": [
    {
     "data": {
      "text/plain": [
       "array([1, 2, 3, 4, 5])"
      ]
     },
     "execution_count": 2,
     "metadata": {},
     "output_type": "execute_result"
    }
   ],
   "source": [
    "np.array([1,2,3,4,5])"
   ]
  },
  {
   "cell_type": "code",
   "execution_count": 3,
   "metadata": {
    "executionInfo": {
     "elapsed": 7,
     "status": "ok",
     "timestamp": 1641285779778,
     "user": {
      "displayName": "James Roger",
      "photoUrl": "https://lh3.googleusercontent.com/a-/AOh14Gg70YaTQVGbzM-Bad9qA0lbjkRJCYS8YLs18wWH_g=s64",
      "userId": "06136541211222501905"
     },
     "user_tz": -480
    },
    "id": "WsNwYVSeQS-X"
   },
   "outputs": [],
   "source": [
    "a = np.zeros((3,2))  # 行列"
   ]
  },
  {
   "cell_type": "code",
   "execution_count": 4,
   "metadata": {
    "colab": {
     "base_uri": "https://localhost:8080/"
    },
    "executionInfo": {
     "elapsed": 11,
     "status": "ok",
     "timestamp": 1641285785086,
     "user": {
      "displayName": "James Roger",
      "photoUrl": "https://lh3.googleusercontent.com/a-/AOh14Gg70YaTQVGbzM-Bad9qA0lbjkRJCYS8YLs18wWH_g=s64",
      "userId": "06136541211222501905"
     },
     "user_tz": -480
    },
    "id": "NEX3EHWCQXz3",
    "outputId": "8db573e3-0d66-45ab-b3ab-cbab305a3601"
   },
   "outputs": [
    {
     "data": {
      "text/plain": [
       "(3, 2)"
      ]
     },
     "execution_count": 4,
     "metadata": {},
     "output_type": "execute_result"
    }
   ],
   "source": [
    "a.shape"
   ]
  },
  {
   "cell_type": "code",
   "execution_count": 5,
   "metadata": {
    "colab": {
     "base_uri": "https://localhost:8080/"
    },
    "executionInfo": {
     "elapsed": 10,
     "status": "ok",
     "timestamp": 1641285863894,
     "user": {
      "displayName": "James Roger",
      "photoUrl": "https://lh3.googleusercontent.com/a-/AOh14Gg70YaTQVGbzM-Bad9qA0lbjkRJCYS8YLs18wWH_g=s64",
      "userId": "06136541211222501905"
     },
     "user_tz": -480
    },
    "id": "rBxrnlYWQZDn",
    "outputId": "c386f418-00a5-42f0-e810-cb5e2c64d48d"
   },
   "outputs": [
    {
     "data": {
      "text/plain": [
       "array([3, 4, 5, 6])"
      ]
     },
     "execution_count": 5,
     "metadata": {},
     "output_type": "execute_result"
    }
   ],
   "source": [
    "np.arange(3,7)  # 左闭右开"
   ]
  },
  {
   "cell_type": "code",
   "execution_count": 11,
   "metadata": {
    "executionInfo": {
     "elapsed": 401,
     "status": "ok",
     "timestamp": 1641286201822,
     "user": {
      "displayName": "James Roger",
      "photoUrl": "https://lh3.googleusercontent.com/a-/AOh14Gg70YaTQVGbzM-Bad9qA0lbjkRJCYS8YLs18wWH_g=s64",
      "userId": "06136541211222501905"
     },
     "user_tz": -480
    },
    "id": "fb6CFxyNQsOe"
   },
   "outputs": [],
   "source": [
    "b = np.linspace(0,1,5)  # 返回某个区间等间距的数，start，stop，sample sum，这里是返回五个数，默认值是50"
   ]
  },
  {
   "cell_type": "code",
   "execution_count": 7,
   "metadata": {
    "colab": {
     "base_uri": "https://localhost:8080/"
    },
    "executionInfo": {
     "elapsed": 10,
     "status": "ok",
     "timestamp": 1641285999709,
     "user": {
      "displayName": "James Roger",
      "photoUrl": "https://lh3.googleusercontent.com/a-/AOh14Gg70YaTQVGbzM-Bad9qA0lbjkRJCYS8YLs18wWH_g=s64",
      "userId": "06136541211222501905"
     },
     "user_tz": -480
    },
    "id": "20QmOjVeRKZG",
    "outputId": "6481633a-287d-4f7e-d9e3-74bf691a8037"
   },
   "outputs": [
    {
     "data": {
      "text/plain": [
       "array([0.        , 0.02040816, 0.04081633, 0.06122449, 0.08163265,\n",
       "       0.10204082, 0.12244898, 0.14285714, 0.16326531, 0.18367347,\n",
       "       0.20408163, 0.2244898 , 0.24489796, 0.26530612, 0.28571429,\n",
       "       0.30612245, 0.32653061, 0.34693878, 0.36734694, 0.3877551 ,\n",
       "       0.40816327, 0.42857143, 0.44897959, 0.46938776, 0.48979592,\n",
       "       0.51020408, 0.53061224, 0.55102041, 0.57142857, 0.59183673,\n",
       "       0.6122449 , 0.63265306, 0.65306122, 0.67346939, 0.69387755,\n",
       "       0.71428571, 0.73469388, 0.75510204, 0.7755102 , 0.79591837,\n",
       "       0.81632653, 0.83673469, 0.85714286, 0.87755102, 0.89795918,\n",
       "       0.91836735, 0.93877551, 0.95918367, 0.97959184, 1.        ])"
      ]
     },
     "execution_count": 7,
     "metadata": {},
     "output_type": "execute_result"
    }
   ],
   "source": [
    "np.linspace(0,1)"
   ]
  },
  {
   "cell_type": "code",
   "execution_count": 12,
   "metadata": {
    "colab": {
     "base_uri": "https://localhost:8080/"
    },
    "executionInfo": {
     "elapsed": 443,
     "status": "ok",
     "timestamp": 1641286205465,
     "user": {
      "displayName": "James Roger",
      "photoUrl": "https://lh3.googleusercontent.com/a-/AOh14Gg70YaTQVGbzM-Bad9qA0lbjkRJCYS8YLs18wWH_g=s64",
      "userId": "06136541211222501905"
     },
     "user_tz": -480
    },
    "id": "ISfnuMnmRNb3",
    "outputId": "0440658c-3e8b-44f6-9887-c7b1db79fda3"
   },
   "outputs": [
    {
     "data": {
      "text/plain": [
       "array([[0.24625715, 0.74077155, 0.7505223 , 0.08559941],\n",
       "       [0.01060763, 0.83434801, 0.52576116, 0.55669701]])"
      ]
     },
     "execution_count": 12,
     "metadata": {},
     "output_type": "execute_result"
    }
   ],
   "source": [
    "np.random.rand(2,4)  # 随机生成数组"
   ]
  },
  {
   "cell_type": "code",
   "execution_count": 9,
   "metadata": {
    "colab": {
     "base_uri": "https://localhost:8080/"
    },
    "executionInfo": {
     "elapsed": 9,
     "status": "ok",
     "timestamp": 1641286099789,
     "user": {
      "displayName": "James Roger",
      "photoUrl": "https://lh3.googleusercontent.com/a-/AOh14Gg70YaTQVGbzM-Bad9qA0lbjkRJCYS8YLs18wWH_g=s64",
      "userId": "06136541211222501905"
     },
     "user_tz": -480
    },
    "id": "V-ifmhQCRaD9",
    "outputId": "690c88d6-8ba1-4f3b-d508-02320540d190"
   },
   "outputs": [
    {
     "data": {
      "text/plain": [
       "dtype('float64')"
      ]
     },
     "execution_count": 9,
     "metadata": {},
     "output_type": "execute_result"
    }
   ],
   "source": [
    "a.dtype   # 数组默认数据类型是'float64'，创建数组时也可以通过dtype指定值的类型"
   ]
  },
  {
   "cell_type": "code",
   "execution_count": 13,
   "metadata": {
    "executionInfo": {
     "elapsed": 7,
     "status": "ok",
     "timestamp": 1641286265446,
     "user": {
      "displayName": "James Roger",
      "photoUrl": "https://lh3.googleusercontent.com/a-/AOh14Gg70YaTQVGbzM-Bad9qA0lbjkRJCYS8YLs18wWH_g=s64",
      "userId": "06136541211222501905"
     },
     "user_tz": -480
    },
    "id": "4th8ev4ARl6Z"
   },
   "outputs": [],
   "source": [
    "c = np.zeros((2,3), dtype='int32')"
   ]
  },
  {
   "cell_type": "code",
   "execution_count": 15,
   "metadata": {
    "colab": {
     "base_uri": "https://localhost:8080/"
    },
    "executionInfo": {
     "elapsed": 8,
     "status": "ok",
     "timestamp": 1641286341186,
     "user": {
      "displayName": "James Roger",
      "photoUrl": "https://lh3.googleusercontent.com/a-/AOh14Gg70YaTQVGbzM-Bad9qA0lbjkRJCYS8YLs18wWH_g=s64",
      "userId": "06136541211222501905"
     },
     "user_tz": -480
    },
    "id": "D9mVpGt0SOUb",
    "outputId": "8d4976c4-b142-4838-98da-eb19afbe668a"
   },
   "outputs": [
    {
     "name": "stdout",
     "output_type": "stream",
     "text": [
      "float64\n"
     ]
    }
   ],
   "source": [
    "c = c.astype(float)   # 转换数据类型\n",
    "print(c.dtype)"
   ]
  },
  {
   "cell_type": "code",
   "execution_count": 16,
   "metadata": {
    "executionInfo": {
     "elapsed": 6,
     "status": "ok",
     "timestamp": 1641286418065,
     "user": {
      "displayName": "James Roger",
      "photoUrl": "https://lh3.googleusercontent.com/a-/AOh14Gg70YaTQVGbzM-Bad9qA0lbjkRJCYS8YLs18wWH_g=s64",
      "userId": "06136541211222501905"
     },
     "user_tz": -480
    },
    "id": "eQUTlF0TSdrJ"
   },
   "outputs": [],
   "source": [
    "# 两个相同尺寸的数组可以直接进行四则运算\n",
    "a = np.array([1,2,3])\n",
    "b = np.array([4,5,6])"
   ]
  },
  {
   "cell_type": "code",
   "execution_count": 17,
   "metadata": {
    "colab": {
     "base_uri": "https://localhost:8080/"
    },
    "executionInfo": {
     "elapsed": 8,
     "status": "ok",
     "timestamp": 1641286422070,
     "user": {
      "displayName": "James Roger",
      "photoUrl": "https://lh3.googleusercontent.com/a-/AOh14Gg70YaTQVGbzM-Bad9qA0lbjkRJCYS8YLs18wWH_g=s64",
      "userId": "06136541211222501905"
     },
     "user_tz": -480
    },
    "id": "TpomIO0RSzf3",
    "outputId": "3f8c6bf4-1a4b-45f5-a06b-42495e363641"
   },
   "outputs": [
    {
     "data": {
      "text/plain": [
       "array([5, 7, 9])"
      ]
     },
     "execution_count": 17,
     "metadata": {},
     "output_type": "execute_result"
    }
   ],
   "source": [
    "a+b"
   ]
  },
  {
   "cell_type": "code",
   "execution_count": 18,
   "metadata": {
    "colab": {
     "base_uri": "https://localhost:8080/"
    },
    "executionInfo": {
     "elapsed": 4,
     "status": "ok",
     "timestamp": 1641286427135,
     "user": {
      "displayName": "James Roger",
      "photoUrl": "https://lh3.googleusercontent.com/a-/AOh14Gg70YaTQVGbzM-Bad9qA0lbjkRJCYS8YLs18wWH_g=s64",
      "userId": "06136541211222501905"
     },
     "user_tz": -480
    },
    "id": "N_pM3CrAS0fP",
    "outputId": "2afad556-d0a7-4764-9d2d-c85e9db582e7"
   },
   "outputs": [
    {
     "data": {
      "text/plain": [
       "array([0.25, 0.4 , 0.5 ])"
      ]
     },
     "execution_count": 18,
     "metadata": {},
     "output_type": "execute_result"
    }
   ],
   "source": [
    "a/b"
   ]
  },
  {
   "cell_type": "code",
   "execution_count": 19,
   "metadata": {
    "colab": {
     "base_uri": "https://localhost:8080/"
    },
    "executionInfo": {
     "elapsed": 8,
     "status": "ok",
     "timestamp": 1641286470150,
     "user": {
      "displayName": "James Roger",
      "photoUrl": "https://lh3.googleusercontent.com/a-/AOh14Gg70YaTQVGbzM-Bad9qA0lbjkRJCYS8YLs18wWH_g=s64",
      "userId": "06136541211222501905"
     },
     "user_tz": -480
    },
    "id": "dZJZQUIrS12P",
    "outputId": "14731f5c-a84a-40e2-d927-f2b4f4819089"
   },
   "outputs": [
    {
     "data": {
      "text/plain": [
       "32"
      ]
     },
     "execution_count": 19,
     "metadata": {},
     "output_type": "execute_result"
    }
   ],
   "source": [
    "np.dot(a,b)  # 点乘运算，a@b为矩阵乘法运算"
   ]
  },
  {
   "cell_type": "code",
   "execution_count": 20,
   "metadata": {
    "colab": {
     "base_uri": "https://localhost:8080/"
    },
    "executionInfo": {
     "elapsed": 3,
     "status": "ok",
     "timestamp": 1641286601609,
     "user": {
      "displayName": "James Roger",
      "photoUrl": "https://lh3.googleusercontent.com/a-/AOh14Gg70YaTQVGbzM-Bad9qA0lbjkRJCYS8YLs18wWH_g=s64",
      "userId": "06136541211222501905"
     },
     "user_tz": -480
    },
    "id": "PMP0MzKTTAXc",
    "outputId": "0bbf8ad5-41f0-4a14-b371-d079c192a68d"
   },
   "outputs": [
    {
     "data": {
      "text/plain": [
       "array([1.        , 1.41421356, 1.73205081])"
      ]
     },
     "execution_count": 20,
     "metadata": {},
     "output_type": "execute_result"
    }
   ],
   "source": [
    "np.sqrt(a)  # 求平方根运算"
   ]
  },
  {
   "cell_type": "code",
   "execution_count": 21,
   "metadata": {
    "colab": {
     "base_uri": "https://localhost:8080/"
    },
    "executionInfo": {
     "elapsed": 8,
     "status": "ok",
     "timestamp": 1641286656334,
     "user": {
      "displayName": "James Roger",
      "photoUrl": "https://lh3.googleusercontent.com/a-/AOh14Gg70YaTQVGbzM-Bad9qA0lbjkRJCYS8YLs18wWH_g=s64",
      "userId": "06136541211222501905"
     },
     "user_tz": -480
    },
    "id": "bhacnJ6jTgZT",
    "outputId": "1ef90dd6-db02-4d99-a67a-2aa8851ef53a"
   },
   "outputs": [
    {
     "data": {
      "text/plain": [
       "array([1, 4, 9])"
      ]
     },
     "execution_count": 21,
     "metadata": {},
     "output_type": "execute_result"
    }
   ],
   "source": [
    "np.power(a,2)  # 指数运算\n",
    "# np.log(a)"
   ]
  },
  {
   "cell_type": "code",
   "execution_count": 22,
   "metadata": {
    "colab": {
     "base_uri": "https://localhost:8080/"
    },
    "executionInfo": {
     "elapsed": 14,
     "status": "ok",
     "timestamp": 1641286706784,
     "user": {
      "displayName": "James Roger",
      "photoUrl": "https://lh3.googleusercontent.com/a-/AOh14Gg70YaTQVGbzM-Bad9qA0lbjkRJCYS8YLs18wWH_g=s64",
      "userId": "06136541211222501905"
     },
     "user_tz": -480
    },
    "id": "3YLZ-8WOTtwr",
    "outputId": "19b8b7b8-0362-42db-970a-4d266f7133ef"
   },
   "outputs": [
    {
     "data": {
      "text/plain": [
       "array([ 5, 10, 15])"
      ]
     },
     "execution_count": 22,
     "metadata": {},
     "output_type": "execute_result"
    }
   ],
   "source": [
    "# 也可以单独与一个数做乘法， 广播机制\n",
    "a * 5"
   ]
  },
  {
   "cell_type": "code",
   "execution_count": 23,
   "metadata": {
    "colab": {
     "base_uri": "https://localhost:8080/"
    },
    "executionInfo": {
     "elapsed": 5,
     "status": "ok",
     "timestamp": 1641286896653,
     "user": {
      "displayName": "James Roger",
      "photoUrl": "https://lh3.googleusercontent.com/a-/AOh14Gg70YaTQVGbzM-Bad9qA0lbjkRJCYS8YLs18wWH_g=s64",
      "userId": "06136541211222501905"
     },
     "user_tz": -480
    },
    "id": "EeBetkQgT6IT",
    "outputId": "94ffcd9a-0638-4918-af4b-8aa35c08e17c"
   },
   "outputs": [
    {
     "data": {
      "text/plain": [
       "array([[ 1,  2,  3],\n",
       "       [ 2,  3,  4],\n",
       "       [10, 11, 12]])"
      ]
     },
     "execution_count": 23,
     "metadata": {},
     "output_type": "execute_result"
    }
   ],
   "source": [
    "# 有意思的是不同尺寸的数组也可以相加，运算前会将数组扩展到相同尺寸，对应位置再相加\n",
    "a = np.array([[1],\n",
    "        [2],\n",
    "        [10]])\n",
    "b = np.array([0,1,2])\n",
    "a+b"
   ]
  },
  {
   "cell_type": "code",
   "execution_count": 24,
   "metadata": {
    "colab": {
     "base_uri": "https://localhost:8080/"
    },
    "executionInfo": {
     "elapsed": 9,
     "status": "ok",
     "timestamp": 1641286947711,
     "user": {
      "displayName": "James Roger",
      "photoUrl": "https://lh3.googleusercontent.com/a-/AOh14Gg70YaTQVGbzM-Bad9qA0lbjkRJCYS8YLs18wWH_g=s64",
      "userId": "06136541211222501905"
     },
     "user_tz": -480
    },
    "id": "dUs58U1AUoem",
    "outputId": "d63d7b46-3398-40e3-8668-0dc48fb63704"
   },
   "outputs": [
    {
     "name": "stdout",
     "output_type": "stream",
     "text": [
      "1\n",
      "10\n"
     ]
    }
   ],
   "source": [
    "print(a.min())\n",
    "print(a.max())   # 返回数组最大最小值"
   ]
  },
  {
   "cell_type": "code",
   "execution_count": 25,
   "metadata": {
    "colab": {
     "base_uri": "https://localhost:8080/"
    },
    "executionInfo": {
     "elapsed": 8,
     "status": "ok",
     "timestamp": 1641287022403,
     "user": {
      "displayName": "James Roger",
      "photoUrl": "https://lh3.googleusercontent.com/a-/AOh14Gg70YaTQVGbzM-Bad9qA0lbjkRJCYS8YLs18wWH_g=s64",
      "userId": "06136541211222501905"
     },
     "user_tz": -480
    },
    "id": "5iUWZTdKU08B",
    "outputId": "72e9a187-a75a-47bb-ef35-cf2a10659f67"
   },
   "outputs": [
    {
     "name": "stdout",
     "output_type": "stream",
     "text": [
      "0\n",
      "2\n"
     ]
    }
   ],
   "source": [
    "print(np.argmin(a))\n",
    "print(np.argmax(a))  # 返回数组最大最小值所在的索引，或写成a.argmin()是一样的"
   ]
  },
  {
   "cell_type": "code",
   "execution_count": 28,
   "metadata": {
    "colab": {
     "base_uri": "https://localhost:8080/"
    },
    "executionInfo": {
     "elapsed": 420,
     "status": "ok",
     "timestamp": 1641287458840,
     "user": {
      "displayName": "James Roger",
      "photoUrl": "https://lh3.googleusercontent.com/a-/AOh14Gg70YaTQVGbzM-Bad9qA0lbjkRJCYS8YLs18wWH_g=s64",
      "userId": "06136541211222501905"
     },
     "user_tz": -480
    },
    "id": "8s3i4qPHVHHc",
    "outputId": "5653916c-6e74-4fcb-c40b-e4f57c182fc5"
   },
   "outputs": [
    {
     "name": "stdout",
     "output_type": "stream",
     "text": [
      "13\n",
      "4.333333333333333\n",
      "2.0\n",
      "16.22222222222222\n",
      "4.0276819911981905\n"
     ]
    }
   ],
   "source": [
    "print(a.sum())\n",
    "print(a.mean())\n",
    "print(np.median(a))\n",
    "print(a.var())      # 返回方差标准差\n",
    "print(a.std())  "
   ]
  },
  {
   "cell_type": "code",
   "execution_count": 29,
   "metadata": {
    "colab": {
     "base_uri": "https://localhost:8080/"
    },
    "executionInfo": {
     "elapsed": 14,
     "status": "ok",
     "timestamp": 1641287629365,
     "user": {
      "displayName": "James Roger",
      "photoUrl": "https://lh3.googleusercontent.com/a-/AOh14Gg70YaTQVGbzM-Bad9qA0lbjkRJCYS8YLs18wWH_g=s64",
      "userId": "06136541211222501905"
     },
     "user_tz": -480
    },
    "id": "8CzOwHb3Vg3J",
    "outputId": "88b277ba-ca7e-420e-d041-3929bcec4362"
   },
   "outputs": [
    {
     "data": {
      "text/plain": [
       "array([ 6,  8, 10, 12, 14])"
      ]
     },
     "execution_count": 29,
     "metadata": {},
     "output_type": "execute_result"
    }
   ],
   "source": [
    "# 如果数组是额外数组，可以指定axis按行索引或者按列索引，0表示列不变，数据按行索引；1表示行不变，数据按列索引\n",
    "a = np.array([[1,2,3,4,5],\n",
    "        [5,6,7,8,9]])\n",
    "a.sum(axis=0)"
   ]
  },
  {
   "cell_type": "code",
   "execution_count": 30,
   "metadata": {
    "colab": {
     "base_uri": "https://localhost:8080/"
    },
    "executionInfo": {
     "elapsed": 5,
     "status": "ok",
     "timestamp": 1641287706414,
     "user": {
      "displayName": "James Roger",
      "photoUrl": "https://lh3.googleusercontent.com/a-/AOh14Gg70YaTQVGbzM-Bad9qA0lbjkRJCYS8YLs18wWH_g=s64",
      "userId": "06136541211222501905"
     },
     "user_tz": -480
    },
    "id": "vZFKpmyeXbVZ",
    "outputId": "20f09c64-38f9-49d0-d38a-4caf2d4b1df3"
   },
   "outputs": [
    {
     "data": {
      "text/plain": [
       "array([1, 2, 3, 4, 6, 8])"
      ]
     },
     "execution_count": 30,
     "metadata": {},
     "output_type": "execute_result"
    }
   ],
   "source": [
    "a[(a>3) & (a % 2) == 0]   # 可以筛选数组中数据"
   ]
  },
  {
   "cell_type": "code",
   "execution_count": 31,
   "metadata": {
    "colab": {
     "base_uri": "https://localhost:8080/"
    },
    "executionInfo": {
     "elapsed": 3,
     "status": "ok",
     "timestamp": 1641287752785,
     "user": {
      "displayName": "James Roger",
      "photoUrl": "https://lh3.googleusercontent.com/a-/AOh14Gg70YaTQVGbzM-Bad9qA0lbjkRJCYS8YLs18wWH_g=s64",
      "userId": "06136541211222501905"
     },
     "user_tz": -480
    },
    "id": "nWah6ZOXXuLT",
    "outputId": "b3a1ed7e-58fb-413a-9097-2b0d3ca60fa8"
   },
   "outputs": [
    {
     "data": {
      "text/plain": [
       "array([1, 2])"
      ]
     },
     "execution_count": 31,
     "metadata": {},
     "output_type": "execute_result"
    }
   ],
   "source": [
    "a[0, 0:2]   # 还可以进行数据切片"
   ]
  },
  {
   "cell_type": "code",
   "execution_count": 33,
   "metadata": {
    "colab": {
     "base_uri": "https://localhost:8080/"
    },
    "executionInfo": {
     "elapsed": 412,
     "status": "ok",
     "timestamp": 1641288197461,
     "user": {
      "displayName": "James Roger",
      "photoUrl": "https://lh3.googleusercontent.com/a-/AOh14Gg70YaTQVGbzM-Bad9qA0lbjkRJCYS8YLs18wWH_g=s64",
      "userId": "06136541211222501905"
     },
     "user_tz": -480
    },
    "id": "deHWxQNgX5cz",
    "outputId": "95b56ae7-edd3-4386-d53e-f4d7f68bf506"
   },
   "outputs": [
    {
     "data": {
      "text/plain": [
       "array([1, 3, 5])"
      ]
     },
     "execution_count": 33,
     "metadata": {},
     "output_type": "execute_result"
    }
   ],
   "source": [
    "a[0,0:5:2]   # 按步长取数，步长为2"
   ]
  }
 ],
 "metadata": {
  "colab": {
   "authorship_tag": "ABX9TyOjFGDJxfikqQjGtvTVlJGq",
   "collapsed_sections": [],
   "name": "Numpy_Basic.ipynb",
   "provenance": []
  },
  "kernelspec": {
   "display_name": "d2l:Python",
   "language": "python",
   "name": "conda-env-d2l-py"
  },
  "language_info": {
   "codemirror_mode": {
    "name": "ipython",
    "version": 3
   },
   "file_extension": ".py",
   "mimetype": "text/x-python",
   "name": "python",
   "nbconvert_exporter": "python",
   "pygments_lexer": "ipython3",
   "version": "3.9.9"
  }
 },
 "nbformat": 4,
 "nbformat_minor": 4
}
