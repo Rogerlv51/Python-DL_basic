{
 "cells": [
  {
   "cell_type": "markdown",
   "metadata": {
    "id": "C-9D7YndipsI"
   },
   "source": [
    "# tips:每一步操作都不会改变dataframe本身的结构和值"
   ]
  },
  {
   "cell_type": "code",
   "execution_count": 1,
   "metadata": {
    "executionInfo": {
     "elapsed": 890,
     "status": "ok",
     "timestamp": 1641453948408,
     "user": {
      "displayName": "James Roger",
      "photoUrl": "https://lh3.googleusercontent.com/a-/AOh14Gg70YaTQVGbzM-Bad9qA0lbjkRJCYS8YLs18wWH_g=s64",
      "userId": "06136541211222501905"
     },
     "user_tz": -480
    },
    "id": "jWTM73DBJqxa"
   },
   "outputs": [],
   "source": [
    "import pandas as pd\n",
    "import numpy as np"
   ]
  },
  {
   "cell_type": "markdown",
   "metadata": {},
   "source": [
    "# 处理CSV文件"
   ]
  },
  {
   "cell_type": "code",
   "execution_count": 7,
   "metadata": {},
   "outputs": [
    {
     "data": {
      "text/html": [
       "<div>\n",
       "<style scoped>\n",
       "    .dataframe tbody tr th:only-of-type {\n",
       "        vertical-align: middle;\n",
       "    }\n",
       "\n",
       "    .dataframe tbody tr th {\n",
       "        vertical-align: top;\n",
       "    }\n",
       "\n",
       "    .dataframe thead th {\n",
       "        text-align: right;\n",
       "    }\n",
       "</style>\n",
       "<table border=\"1\" class=\"dataframe\">\n",
       "  <thead>\n",
       "    <tr style=\"text-align: right;\">\n",
       "      <th></th>\n",
       "      <th>image_id</th>\n",
       "      <th>label</th>\n",
       "      <th>variety</th>\n",
       "      <th>age</th>\n",
       "    </tr>\n",
       "  </thead>\n",
       "  <tbody>\n",
       "    <tr>\n",
       "      <th>0</th>\n",
       "      <td>100330.jpg</td>\n",
       "      <td>bacterial_leaf_blight</td>\n",
       "      <td>ADT45</td>\n",
       "      <td>45</td>\n",
       "    </tr>\n",
       "    <tr>\n",
       "      <th>1</th>\n",
       "      <td>100365.jpg</td>\n",
       "      <td>bacterial_leaf_blight</td>\n",
       "      <td>ADT45</td>\n",
       "      <td>45</td>\n",
       "    </tr>\n",
       "    <tr>\n",
       "      <th>2</th>\n",
       "      <td>100382.jpg</td>\n",
       "      <td>bacterial_leaf_blight</td>\n",
       "      <td>ADT45</td>\n",
       "      <td>45</td>\n",
       "    </tr>\n",
       "    <tr>\n",
       "      <th>3</th>\n",
       "      <td>100632.jpg</td>\n",
       "      <td>bacterial_leaf_blight</td>\n",
       "      <td>ADT45</td>\n",
       "      <td>45</td>\n",
       "    </tr>\n",
       "    <tr>\n",
       "      <th>4</th>\n",
       "      <td>101918.jpg</td>\n",
       "      <td>bacterial_leaf_blight</td>\n",
       "      <td>ADT45</td>\n",
       "      <td>45</td>\n",
       "    </tr>\n",
       "    <tr>\n",
       "      <th>5</th>\n",
       "      <td>102353.jpg</td>\n",
       "      <td>bacterial_leaf_blight</td>\n",
       "      <td>ADT45</td>\n",
       "      <td>45</td>\n",
       "    </tr>\n",
       "    <tr>\n",
       "      <th>6</th>\n",
       "      <td>102848.jpg</td>\n",
       "      <td>bacterial_leaf_blight</td>\n",
       "      <td>ADT45</td>\n",
       "      <td>45</td>\n",
       "    </tr>\n",
       "    <tr>\n",
       "      <th>7</th>\n",
       "      <td>103051.jpg</td>\n",
       "      <td>bacterial_leaf_blight</td>\n",
       "      <td>ADT45</td>\n",
       "      <td>45</td>\n",
       "    </tr>\n",
       "    <tr>\n",
       "      <th>8</th>\n",
       "      <td>103702.jpg</td>\n",
       "      <td>bacterial_leaf_blight</td>\n",
       "      <td>ADT45</td>\n",
       "      <td>45</td>\n",
       "    </tr>\n",
       "    <tr>\n",
       "      <th>9</th>\n",
       "      <td>103920.jpg</td>\n",
       "      <td>bacterial_leaf_blight</td>\n",
       "      <td>ADT45</td>\n",
       "      <td>45</td>\n",
       "    </tr>\n",
       "  </tbody>\n",
       "</table>\n",
       "</div>"
      ],
      "text/plain": [
       "     image_id                  label variety  age\n",
       "0  100330.jpg  bacterial_leaf_blight   ADT45   45\n",
       "1  100365.jpg  bacterial_leaf_blight   ADT45   45\n",
       "2  100382.jpg  bacterial_leaf_blight   ADT45   45\n",
       "3  100632.jpg  bacterial_leaf_blight   ADT45   45\n",
       "4  101918.jpg  bacterial_leaf_blight   ADT45   45\n",
       "5  102353.jpg  bacterial_leaf_blight   ADT45   45\n",
       "6  102848.jpg  bacterial_leaf_blight   ADT45   45\n",
       "7  103051.jpg  bacterial_leaf_blight   ADT45   45\n",
       "8  103702.jpg  bacterial_leaf_blight   ADT45   45\n",
       "9  103920.jpg  bacterial_leaf_blight   ADT45   45"
      ]
     },
     "execution_count": 7,
     "metadata": {},
     "output_type": "execute_result"
    }
   ],
   "source": [
    "train_Data = pd.read_csv(\"train.csv\")\n",
    "train_Data.head(10)          # 打印前10行信息"
   ]
  },
  {
   "cell_type": "code",
   "execution_count": 9,
   "metadata": {},
   "outputs": [
    {
     "name": "stdout",
     "output_type": "stream",
     "text": [
      "<class 'pandas.core.frame.DataFrame'>\n",
      "RangeIndex: 10407 entries, 0 to 10406\n",
      "Data columns (total 4 columns):\n",
      " #   Column    Non-Null Count  Dtype \n",
      "---  ------    --------------  ----- \n",
      " 0   image_id  10407 non-null  object\n",
      " 1   label     10407 non-null  object\n",
      " 2   variety   10407 non-null  object\n",
      " 3   age       10407 non-null  int64 \n",
      "dtypes: int64(1), object(3)\n",
      "memory usage: 325.3+ KB\n"
     ]
    }
   ],
   "source": [
    "train_Data.info()     # 10407条训练数据，且没有缺失值"
   ]
  },
  {
   "cell_type": "code",
   "execution_count": 55,
   "metadata": {},
   "outputs": [
    {
     "name": "stdout",
     "output_type": "stream",
     "text": [
      "[5708, 1336, 412, 5830, 7723, 6266, 8293, 1041, 7375, 10077]\n",
      "7284\n",
      "3123\n"
     ]
    }
   ],
   "source": [
    "import random   # 通常训练集的数据都需要随机打乱，shuffle的方式有很多，这里采用python自带random\n",
    "random.seed(100)         # 固定随机种子，伪随机，不然每次运行index都不一样\n",
    "index = [i for i in train_Data.index]    # 把数据集index全部取出来然后打乱\n",
    "random.shuffle(index)\n",
    "print(index[:10])\n",
    "length = len(index)           # 假如训练和验证集7：3\n",
    "train_len = int(length*0.7)\n",
    "\n",
    "train_df = train_Data.iloc[index[0:train_len]]\n",
    "valid_df = train_Data.iloc[index[train_len:]]\n",
    "print(len(train_df))\n",
    "print(len(valid_df))     # 可以看到已经分离出来，且结果正确"
   ]
  },
  {
   "cell_type": "markdown",
   "metadata": {
    "id": "1pfP2AeCPVPT"
   },
   "source": [
    "# pandas dataframe基础"
   ]
  },
  {
   "cell_type": "code",
   "execution_count": 2,
   "metadata": {
    "id": "dw4783JLLHA2"
   },
   "outputs": [],
   "source": [
    "df = pd.DataFrame({'A':1.,\n",
    "           'B':pd.Timestamp('20220105'),\n",
    "           'C':pd.Series(1,index=list(range(4)),dtype='float32'),\n",
    "           'D':np.array([3]*4,dtype='int32'),\n",
    "           'E':pd.Categorical([\"test\", \"train\", \"test\", \"train\"]),\n",
    "           'F':'foo'})\n",
    "# 这里我们构造了一个pandas下的dataframe数据结构，其中有些列指定了属性类型"
   ]
  },
  {
   "cell_type": "code",
   "execution_count": 3,
   "metadata": {
    "colab": {
     "base_uri": "https://localhost:8080/",
     "height": 174
    },
    "executionInfo": {
     "elapsed": 501,
     "status": "ok",
     "timestamp": 1641368585397,
     "user": {
      "displayName": "James Roger",
      "photoUrl": "https://lh3.googleusercontent.com/a-/AOh14Gg70YaTQVGbzM-Bad9qA0lbjkRJCYS8YLs18wWH_g=s64",
      "userId": "06136541211222501905"
     },
     "user_tz": -480
    },
    "id": "A7EzbCRYMILF",
    "outputId": "1b75abcc-fa31-45cf-8327-d6efbf12ab8a"
   },
   "outputs": [
    {
     "data": {
      "text/html": [
       "<div>\n",
       "<style scoped>\n",
       "    .dataframe tbody tr th:only-of-type {\n",
       "        vertical-align: middle;\n",
       "    }\n",
       "\n",
       "    .dataframe tbody tr th {\n",
       "        vertical-align: top;\n",
       "    }\n",
       "\n",
       "    .dataframe thead th {\n",
       "        text-align: right;\n",
       "    }\n",
       "</style>\n",
       "<table border=\"1\" class=\"dataframe\">\n",
       "  <thead>\n",
       "    <tr style=\"text-align: right;\">\n",
       "      <th></th>\n",
       "      <th>A</th>\n",
       "      <th>B</th>\n",
       "      <th>C</th>\n",
       "      <th>D</th>\n",
       "      <th>E</th>\n",
       "      <th>F</th>\n",
       "    </tr>\n",
       "  </thead>\n",
       "  <tbody>\n",
       "    <tr>\n",
       "      <th>0</th>\n",
       "      <td>1.0</td>\n",
       "      <td>2022-01-05</td>\n",
       "      <td>1.0</td>\n",
       "      <td>3</td>\n",
       "      <td>test</td>\n",
       "      <td>foo</td>\n",
       "    </tr>\n",
       "    <tr>\n",
       "      <th>1</th>\n",
       "      <td>1.0</td>\n",
       "      <td>2022-01-05</td>\n",
       "      <td>1.0</td>\n",
       "      <td>3</td>\n",
       "      <td>train</td>\n",
       "      <td>foo</td>\n",
       "    </tr>\n",
       "    <tr>\n",
       "      <th>2</th>\n",
       "      <td>1.0</td>\n",
       "      <td>2022-01-05</td>\n",
       "      <td>1.0</td>\n",
       "      <td>3</td>\n",
       "      <td>test</td>\n",
       "      <td>foo</td>\n",
       "    </tr>\n",
       "    <tr>\n",
       "      <th>3</th>\n",
       "      <td>1.0</td>\n",
       "      <td>2022-01-05</td>\n",
       "      <td>1.0</td>\n",
       "      <td>3</td>\n",
       "      <td>train</td>\n",
       "      <td>foo</td>\n",
       "    </tr>\n",
       "  </tbody>\n",
       "</table>\n",
       "</div>"
      ],
      "text/plain": [
       "     A          B    C  D      E    F\n",
       "0  1.0 2022-01-05  1.0  3   test  foo\n",
       "1  1.0 2022-01-05  1.0  3  train  foo\n",
       "2  1.0 2022-01-05  1.0  3   test  foo\n",
       "3  1.0 2022-01-05  1.0  3  train  foo"
      ]
     },
     "execution_count": 3,
     "metadata": {},
     "output_type": "execute_result"
    }
   ],
   "source": [
    "df"
   ]
  },
  {
   "cell_type": "code",
   "execution_count": 4,
   "metadata": {},
   "outputs": [
    {
     "data": {
      "text/html": [
       "<div>\n",
       "<style scoped>\n",
       "    .dataframe tbody tr th:only-of-type {\n",
       "        vertical-align: middle;\n",
       "    }\n",
       "\n",
       "    .dataframe tbody tr th {\n",
       "        vertical-align: top;\n",
       "    }\n",
       "\n",
       "    .dataframe thead th {\n",
       "        text-align: right;\n",
       "    }\n",
       "</style>\n",
       "<table border=\"1\" class=\"dataframe\">\n",
       "  <thead>\n",
       "    <tr style=\"text-align: right;\">\n",
       "      <th></th>\n",
       "      <th>A</th>\n",
       "      <th>B</th>\n",
       "    </tr>\n",
       "  </thead>\n",
       "  <tbody>\n",
       "    <tr>\n",
       "      <th>0</th>\n",
       "      <td>1.0</td>\n",
       "      <td>2022-01-05</td>\n",
       "    </tr>\n",
       "    <tr>\n",
       "      <th>1</th>\n",
       "      <td>1.0</td>\n",
       "      <td>2022-01-05</td>\n",
       "    </tr>\n",
       "    <tr>\n",
       "      <th>2</th>\n",
       "      <td>1.0</td>\n",
       "      <td>2022-01-05</td>\n",
       "    </tr>\n",
       "    <tr>\n",
       "      <th>3</th>\n",
       "      <td>1.0</td>\n",
       "      <td>2022-01-05</td>\n",
       "    </tr>\n",
       "  </tbody>\n",
       "</table>\n",
       "</div>"
      ],
      "text/plain": [
       "     A          B\n",
       "0  1.0 2022-01-05\n",
       "1  1.0 2022-01-05\n",
       "2  1.0 2022-01-05\n",
       "3  1.0 2022-01-05"
      ]
     },
     "execution_count": 4,
     "metadata": {},
     "output_type": "execute_result"
    }
   ],
   "source": [
    "list1 = ['A']\n",
    "list2 = ['B']\n",
    "df1 = df[list1+list2].copy()\n",
    "df1"
   ]
  },
  {
   "cell_type": "code",
   "execution_count": 5,
   "metadata": {
    "colab": {
     "base_uri": "https://localhost:8080/"
    },
    "executionInfo": {
     "elapsed": 2398,
     "status": "ok",
     "timestamp": 1641368635425,
     "user": {
      "displayName": "James Roger",
      "photoUrl": "https://lh3.googleusercontent.com/a-/AOh14Gg70YaTQVGbzM-Bad9qA0lbjkRJCYS8YLs18wWH_g=s64",
      "userId": "06136541211222501905"
     },
     "user_tz": -480
    },
    "id": "J9QLOsTDMN7D",
    "outputId": "8d3c6fef-5b4b-4d62-95cc-1fe5c01b5a35"
   },
   "outputs": [
    {
     "data": {
      "text/plain": [
       "A           float64\n",
       "B    datetime64[ns]\n",
       "C           float32\n",
       "D             int32\n",
       "E          category\n",
       "F            object\n",
       "dtype: object"
      ]
     },
     "execution_count": 5,
     "metadata": {},
     "output_type": "execute_result"
    }
   ],
   "source": [
    "# dataframe中有很多属性，我们可以直接查看\n",
    "df.dtypes"
   ]
  },
  {
   "cell_type": "code",
   "execution_count": 6,
   "metadata": {
    "colab": {
     "base_uri": "https://localhost:8080/"
    },
    "executionInfo": {
     "elapsed": 947,
     "status": "ok",
     "timestamp": 1641368674748,
     "user": {
      "displayName": "James Roger",
      "photoUrl": "https://lh3.googleusercontent.com/a-/AOh14Gg70YaTQVGbzM-Bad9qA0lbjkRJCYS8YLs18wWH_g=s64",
      "userId": "06136541211222501905"
     },
     "user_tz": -480
    },
    "id": "53Fgki_YMbuT",
    "outputId": "c09216d8-9f92-4628-a69d-544a651225a3"
   },
   "outputs": [
    {
     "data": {
      "text/plain": [
       "Int64Index([0, 1, 2, 3], dtype='int64')"
      ]
     },
     "execution_count": 6,
     "metadata": {},
     "output_type": "execute_result"
    }
   ],
   "source": [
    "df.index   # 返回所有列的序号"
   ]
  },
  {
   "cell_type": "code",
   "execution_count": 7,
   "metadata": {
    "colab": {
     "base_uri": "https://localhost:8080/"
    },
    "executionInfo": {
     "elapsed": 489,
     "status": "ok",
     "timestamp": 1641368718755,
     "user": {
      "displayName": "James Roger",
      "photoUrl": "https://lh3.googleusercontent.com/a-/AOh14Gg70YaTQVGbzM-Bad9qA0lbjkRJCYS8YLs18wWH_g=s64",
      "userId": "06136541211222501905"
     },
     "user_tz": -480
    },
    "id": "A1wPQJJOMkyr",
    "outputId": "56101b4c-411d-4323-b91f-d36d1f13962c"
   },
   "outputs": [
    {
     "data": {
      "text/plain": [
       "Index(['A', 'B', 'C', 'D', 'E', 'F'], dtype='object')"
      ]
     },
     "execution_count": 7,
     "metadata": {},
     "output_type": "execute_result"
    }
   ],
   "source": [
    "df.columns   # 打印每一列名称"
   ]
  },
  {
   "cell_type": "code",
   "execution_count": 8,
   "metadata": {
    "colab": {
     "base_uri": "https://localhost:8080/"
    },
    "executionInfo": {
     "elapsed": 480,
     "status": "ok",
     "timestamp": 1641368765463,
     "user": {
      "displayName": "James Roger",
      "photoUrl": "https://lh3.googleusercontent.com/a-/AOh14Gg70YaTQVGbzM-Bad9qA0lbjkRJCYS8YLs18wWH_g=s64",
      "userId": "06136541211222501905"
     },
     "user_tz": -480
    },
    "id": "xj5zHjqsMwmD",
    "outputId": "5886bb30-f611-40d8-e188-6fc490f45547"
   },
   "outputs": [
    {
     "data": {
      "text/plain": [
       "array([[1.0, Timestamp('2022-01-05 00:00:00'), 1.0, 3, 'test', 'foo'],\n",
       "       [1.0, Timestamp('2022-01-05 00:00:00'), 1.0, 3, 'train', 'foo'],\n",
       "       [1.0, Timestamp('2022-01-05 00:00:00'), 1.0, 3, 'test', 'foo'],\n",
       "       [1.0, Timestamp('2022-01-05 00:00:00'), 1.0, 3, 'train', 'foo']],\n",
       "      dtype=object)"
      ]
     },
     "execution_count": 8,
     "metadata": {},
     "output_type": "execute_result"
    }
   ],
   "source": [
    "df.values   # 打印列下面所有的值"
   ]
  },
  {
   "cell_type": "code",
   "execution_count": 9,
   "metadata": {
    "colab": {
     "base_uri": "https://localhost:8080/",
     "height": 300
    },
    "executionInfo": {
     "elapsed": 531,
     "status": "ok",
     "timestamp": 1641368859809,
     "user": {
      "displayName": "James Roger",
      "photoUrl": "https://lh3.googleusercontent.com/a-/AOh14Gg70YaTQVGbzM-Bad9qA0lbjkRJCYS8YLs18wWH_g=s64",
      "userId": "06136541211222501905"
     },
     "user_tz": -480
    },
    "id": "GCZXNS82M79D",
    "outputId": "64d12ac5-0f14-4e19-d90f-ad865e657db8"
   },
   "outputs": [
    {
     "data": {
      "text/html": [
       "<div>\n",
       "<style scoped>\n",
       "    .dataframe tbody tr th:only-of-type {\n",
       "        vertical-align: middle;\n",
       "    }\n",
       "\n",
       "    .dataframe tbody tr th {\n",
       "        vertical-align: top;\n",
       "    }\n",
       "\n",
       "    .dataframe thead th {\n",
       "        text-align: right;\n",
       "    }\n",
       "</style>\n",
       "<table border=\"1\" class=\"dataframe\">\n",
       "  <thead>\n",
       "    <tr style=\"text-align: right;\">\n",
       "      <th></th>\n",
       "      <th>A</th>\n",
       "      <th>C</th>\n",
       "      <th>D</th>\n",
       "    </tr>\n",
       "  </thead>\n",
       "  <tbody>\n",
       "    <tr>\n",
       "      <th>count</th>\n",
       "      <td>4.0</td>\n",
       "      <td>4.0</td>\n",
       "      <td>4.0</td>\n",
       "    </tr>\n",
       "    <tr>\n",
       "      <th>mean</th>\n",
       "      <td>1.0</td>\n",
       "      <td>1.0</td>\n",
       "      <td>3.0</td>\n",
       "    </tr>\n",
       "    <tr>\n",
       "      <th>std</th>\n",
       "      <td>0.0</td>\n",
       "      <td>0.0</td>\n",
       "      <td>0.0</td>\n",
       "    </tr>\n",
       "    <tr>\n",
       "      <th>min</th>\n",
       "      <td>1.0</td>\n",
       "      <td>1.0</td>\n",
       "      <td>3.0</td>\n",
       "    </tr>\n",
       "    <tr>\n",
       "      <th>25%</th>\n",
       "      <td>1.0</td>\n",
       "      <td>1.0</td>\n",
       "      <td>3.0</td>\n",
       "    </tr>\n",
       "    <tr>\n",
       "      <th>50%</th>\n",
       "      <td>1.0</td>\n",
       "      <td>1.0</td>\n",
       "      <td>3.0</td>\n",
       "    </tr>\n",
       "    <tr>\n",
       "      <th>75%</th>\n",
       "      <td>1.0</td>\n",
       "      <td>1.0</td>\n",
       "      <td>3.0</td>\n",
       "    </tr>\n",
       "    <tr>\n",
       "      <th>max</th>\n",
       "      <td>1.0</td>\n",
       "      <td>1.0</td>\n",
       "      <td>3.0</td>\n",
       "    </tr>\n",
       "  </tbody>\n",
       "</table>\n",
       "</div>"
      ],
      "text/plain": [
       "         A    C    D\n",
       "count  4.0  4.0  4.0\n",
       "mean   1.0  1.0  3.0\n",
       "std    0.0  0.0  0.0\n",
       "min    1.0  1.0  3.0\n",
       "25%    1.0  1.0  3.0\n",
       "50%    1.0  1.0  3.0\n",
       "75%    1.0  1.0  3.0\n",
       "max    1.0  1.0  3.0"
      ]
     },
     "execution_count": 9,
     "metadata": {},
     "output_type": "execute_result"
    }
   ],
   "source": [
    "df.describe()   # 描述数据集的一些统计特征"
   ]
  },
  {
   "cell_type": "code",
   "execution_count": 10,
   "metadata": {
    "colab": {
     "base_uri": "https://localhost:8080/",
     "height": 238
    },
    "executionInfo": {
     "elapsed": 523,
     "status": "ok",
     "timestamp": 1641368884628,
     "user": {
      "displayName": "James Roger",
      "photoUrl": "https://lh3.googleusercontent.com/a-/AOh14Gg70YaTQVGbzM-Bad9qA0lbjkRJCYS8YLs18wWH_g=s64",
      "userId": "06136541211222501905"
     },
     "user_tz": -480
    },
    "id": "ZvuuLgpcNHKb",
    "outputId": "e71de73c-5e1a-4c5f-ce8a-63f1f3f83ac2"
   },
   "outputs": [
    {
     "data": {
      "text/html": [
       "<div>\n",
       "<style scoped>\n",
       "    .dataframe tbody tr th:only-of-type {\n",
       "        vertical-align: middle;\n",
       "    }\n",
       "\n",
       "    .dataframe tbody tr th {\n",
       "        vertical-align: top;\n",
       "    }\n",
       "\n",
       "    .dataframe thead th {\n",
       "        text-align: right;\n",
       "    }\n",
       "</style>\n",
       "<table border=\"1\" class=\"dataframe\">\n",
       "  <thead>\n",
       "    <tr style=\"text-align: right;\">\n",
       "      <th></th>\n",
       "      <th>0</th>\n",
       "      <th>1</th>\n",
       "      <th>2</th>\n",
       "      <th>3</th>\n",
       "    </tr>\n",
       "  </thead>\n",
       "  <tbody>\n",
       "    <tr>\n",
       "      <th>A</th>\n",
       "      <td>1.0</td>\n",
       "      <td>1.0</td>\n",
       "      <td>1.0</td>\n",
       "      <td>1.0</td>\n",
       "    </tr>\n",
       "    <tr>\n",
       "      <th>B</th>\n",
       "      <td>2022-01-05 00:00:00</td>\n",
       "      <td>2022-01-05 00:00:00</td>\n",
       "      <td>2022-01-05 00:00:00</td>\n",
       "      <td>2022-01-05 00:00:00</td>\n",
       "    </tr>\n",
       "    <tr>\n",
       "      <th>C</th>\n",
       "      <td>1.0</td>\n",
       "      <td>1.0</td>\n",
       "      <td>1.0</td>\n",
       "      <td>1.0</td>\n",
       "    </tr>\n",
       "    <tr>\n",
       "      <th>D</th>\n",
       "      <td>3</td>\n",
       "      <td>3</td>\n",
       "      <td>3</td>\n",
       "      <td>3</td>\n",
       "    </tr>\n",
       "    <tr>\n",
       "      <th>E</th>\n",
       "      <td>test</td>\n",
       "      <td>train</td>\n",
       "      <td>test</td>\n",
       "      <td>train</td>\n",
       "    </tr>\n",
       "    <tr>\n",
       "      <th>F</th>\n",
       "      <td>foo</td>\n",
       "      <td>foo</td>\n",
       "      <td>foo</td>\n",
       "      <td>foo</td>\n",
       "    </tr>\n",
       "  </tbody>\n",
       "</table>\n",
       "</div>"
      ],
      "text/plain": [
       "                     0                    1                    2  \\\n",
       "A                  1.0                  1.0                  1.0   \n",
       "B  2022-01-05 00:00:00  2022-01-05 00:00:00  2022-01-05 00:00:00   \n",
       "C                  1.0                  1.0                  1.0   \n",
       "D                    3                    3                    3   \n",
       "E                 test                train                 test   \n",
       "F                  foo                  foo                  foo   \n",
       "\n",
       "                     3  \n",
       "A                  1.0  \n",
       "B  2022-01-05 00:00:00  \n",
       "C                  1.0  \n",
       "D                    3  \n",
       "E                train  \n",
       "F                  foo  "
      ]
     },
     "execution_count": 10,
     "metadata": {},
     "output_type": "execute_result"
    }
   ],
   "source": [
    "df.T     # 类似矩阵转置，翻转一下"
   ]
  },
  {
   "cell_type": "code",
   "execution_count": 11,
   "metadata": {
    "colab": {
     "base_uri": "https://localhost:8080/",
     "height": 174
    },
    "executionInfo": {
     "elapsed": 469,
     "status": "ok",
     "timestamp": 1641369003708,
     "user": {
      "displayName": "James Roger",
      "photoUrl": "https://lh3.googleusercontent.com/a-/AOh14Gg70YaTQVGbzM-Bad9qA0lbjkRJCYS8YLs18wWH_g=s64",
      "userId": "06136541211222501905"
     },
     "user_tz": -480
    },
    "id": "uda4Lp98NY8Y",
    "outputId": "d14c9f75-39d3-4b11-e69f-e5fb1b891106"
   },
   "outputs": [
    {
     "data": {
      "text/html": [
       "<div>\n",
       "<style scoped>\n",
       "    .dataframe tbody tr th:only-of-type {\n",
       "        vertical-align: middle;\n",
       "    }\n",
       "\n",
       "    .dataframe tbody tr th {\n",
       "        vertical-align: top;\n",
       "    }\n",
       "\n",
       "    .dataframe thead th {\n",
       "        text-align: right;\n",
       "    }\n",
       "</style>\n",
       "<table border=\"1\" class=\"dataframe\">\n",
       "  <thead>\n",
       "    <tr style=\"text-align: right;\">\n",
       "      <th></th>\n",
       "      <th>A</th>\n",
       "      <th>B</th>\n",
       "      <th>C</th>\n",
       "      <th>D</th>\n",
       "      <th>E</th>\n",
       "      <th>F</th>\n",
       "    </tr>\n",
       "  </thead>\n",
       "  <tbody>\n",
       "    <tr>\n",
       "      <th>3</th>\n",
       "      <td>1.0</td>\n",
       "      <td>2022-01-05</td>\n",
       "      <td>1.0</td>\n",
       "      <td>3</td>\n",
       "      <td>train</td>\n",
       "      <td>foo</td>\n",
       "    </tr>\n",
       "    <tr>\n",
       "      <th>2</th>\n",
       "      <td>1.0</td>\n",
       "      <td>2022-01-05</td>\n",
       "      <td>1.0</td>\n",
       "      <td>3</td>\n",
       "      <td>test</td>\n",
       "      <td>foo</td>\n",
       "    </tr>\n",
       "    <tr>\n",
       "      <th>1</th>\n",
       "      <td>1.0</td>\n",
       "      <td>2022-01-05</td>\n",
       "      <td>1.0</td>\n",
       "      <td>3</td>\n",
       "      <td>train</td>\n",
       "      <td>foo</td>\n",
       "    </tr>\n",
       "    <tr>\n",
       "      <th>0</th>\n",
       "      <td>1.0</td>\n",
       "      <td>2022-01-05</td>\n",
       "      <td>1.0</td>\n",
       "      <td>3</td>\n",
       "      <td>test</td>\n",
       "      <td>foo</td>\n",
       "    </tr>\n",
       "  </tbody>\n",
       "</table>\n",
       "</div>"
      ],
      "text/plain": [
       "     A          B    C  D      E    F\n",
       "3  1.0 2022-01-05  1.0  3  train  foo\n",
       "2  1.0 2022-01-05  1.0  3   test  foo\n",
       "1  1.0 2022-01-05  1.0  3  train  foo\n",
       "0  1.0 2022-01-05  1.0  3   test  foo"
      ]
     },
     "execution_count": 11,
     "metadata": {},
     "output_type": "execute_result"
    }
   ],
   "source": [
    "df.sort_index(axis=0, ascending=False)   # 按index索引排序，axis=0表示按行序号大小排序，False则降序，True则升序\n",
    "# axis=1则是按列名称排序"
   ]
  },
  {
   "cell_type": "code",
   "execution_count": 12,
   "metadata": {
    "colab": {
     "base_uri": "https://localhost:8080/",
     "height": 174
    },
    "executionInfo": {
     "elapsed": 492,
     "status": "ok",
     "timestamp": 1641369254202,
     "user": {
      "displayName": "James Roger",
      "photoUrl": "https://lh3.googleusercontent.com/a-/AOh14Gg70YaTQVGbzM-Bad9qA0lbjkRJCYS8YLs18wWH_g=s64",
      "userId": "06136541211222501905"
     },
     "user_tz": -480
    },
    "id": "whp4Iq25N2AU",
    "outputId": "d98e8a95-9326-4daa-e9b9-e7a5b3f1a9d8"
   },
   "outputs": [
    {
     "data": {
      "text/html": [
       "<div>\n",
       "<style scoped>\n",
       "    .dataframe tbody tr th:only-of-type {\n",
       "        vertical-align: middle;\n",
       "    }\n",
       "\n",
       "    .dataframe tbody tr th {\n",
       "        vertical-align: top;\n",
       "    }\n",
       "\n",
       "    .dataframe thead th {\n",
       "        text-align: right;\n",
       "    }\n",
       "</style>\n",
       "<table border=\"1\" class=\"dataframe\">\n",
       "  <thead>\n",
       "    <tr style=\"text-align: right;\">\n",
       "      <th></th>\n",
       "      <th>F</th>\n",
       "      <th>E</th>\n",
       "      <th>D</th>\n",
       "      <th>C</th>\n",
       "      <th>B</th>\n",
       "      <th>A</th>\n",
       "    </tr>\n",
       "  </thead>\n",
       "  <tbody>\n",
       "    <tr>\n",
       "      <th>0</th>\n",
       "      <td>foo</td>\n",
       "      <td>test</td>\n",
       "      <td>3</td>\n",
       "      <td>1.0</td>\n",
       "      <td>2022-01-05</td>\n",
       "      <td>1.0</td>\n",
       "    </tr>\n",
       "    <tr>\n",
       "      <th>1</th>\n",
       "      <td>foo</td>\n",
       "      <td>train</td>\n",
       "      <td>3</td>\n",
       "      <td>1.0</td>\n",
       "      <td>2022-01-05</td>\n",
       "      <td>1.0</td>\n",
       "    </tr>\n",
       "    <tr>\n",
       "      <th>2</th>\n",
       "      <td>foo</td>\n",
       "      <td>test</td>\n",
       "      <td>3</td>\n",
       "      <td>1.0</td>\n",
       "      <td>2022-01-05</td>\n",
       "      <td>1.0</td>\n",
       "    </tr>\n",
       "    <tr>\n",
       "      <th>3</th>\n",
       "      <td>foo</td>\n",
       "      <td>train</td>\n",
       "      <td>3</td>\n",
       "      <td>1.0</td>\n",
       "      <td>2022-01-05</td>\n",
       "      <td>1.0</td>\n",
       "    </tr>\n",
       "  </tbody>\n",
       "</table>\n",
       "</div>"
      ],
      "text/plain": [
       "     F      E  D    C          B    A\n",
       "0  foo   test  3  1.0 2022-01-05  1.0\n",
       "1  foo  train  3  1.0 2022-01-05  1.0\n",
       "2  foo   test  3  1.0 2022-01-05  1.0\n",
       "3  foo  train  3  1.0 2022-01-05  1.0"
      ]
     },
     "execution_count": 12,
     "metadata": {},
     "output_type": "execute_result"
    }
   ],
   "source": [
    "df.sort_index(axis=1, ascending=False)"
   ]
  },
  {
   "cell_type": "code",
   "execution_count": 13,
   "metadata": {
    "colab": {
     "base_uri": "https://localhost:8080/",
     "height": 174
    },
    "executionInfo": {
     "elapsed": 733,
     "status": "ok",
     "timestamp": 1641369328855,
     "user": {
      "displayName": "James Roger",
      "photoUrl": "https://lh3.googleusercontent.com/a-/AOh14Gg70YaTQVGbzM-Bad9qA0lbjkRJCYS8YLs18wWH_g=s64",
      "userId": "06136541211222501905"
     },
     "user_tz": -480
    },
    "id": "jtGBG-42Oy9p",
    "outputId": "0f01dd97-ae5a-40c3-ae0a-c942598c4cff"
   },
   "outputs": [
    {
     "data": {
      "text/html": [
       "<div>\n",
       "<style scoped>\n",
       "    .dataframe tbody tr th:only-of-type {\n",
       "        vertical-align: middle;\n",
       "    }\n",
       "\n",
       "    .dataframe tbody tr th {\n",
       "        vertical-align: top;\n",
       "    }\n",
       "\n",
       "    .dataframe thead th {\n",
       "        text-align: right;\n",
       "    }\n",
       "</style>\n",
       "<table border=\"1\" class=\"dataframe\">\n",
       "  <thead>\n",
       "    <tr style=\"text-align: right;\">\n",
       "      <th></th>\n",
       "      <th>A</th>\n",
       "      <th>B</th>\n",
       "      <th>C</th>\n",
       "      <th>D</th>\n",
       "      <th>E</th>\n",
       "      <th>F</th>\n",
       "    </tr>\n",
       "  </thead>\n",
       "  <tbody>\n",
       "    <tr>\n",
       "      <th>0</th>\n",
       "      <td>1.0</td>\n",
       "      <td>2022-01-05</td>\n",
       "      <td>1.0</td>\n",
       "      <td>3</td>\n",
       "      <td>test</td>\n",
       "      <td>foo</td>\n",
       "    </tr>\n",
       "    <tr>\n",
       "      <th>2</th>\n",
       "      <td>1.0</td>\n",
       "      <td>2022-01-05</td>\n",
       "      <td>1.0</td>\n",
       "      <td>3</td>\n",
       "      <td>test</td>\n",
       "      <td>foo</td>\n",
       "    </tr>\n",
       "    <tr>\n",
       "      <th>1</th>\n",
       "      <td>1.0</td>\n",
       "      <td>2022-01-05</td>\n",
       "      <td>1.0</td>\n",
       "      <td>3</td>\n",
       "      <td>train</td>\n",
       "      <td>foo</td>\n",
       "    </tr>\n",
       "    <tr>\n",
       "      <th>3</th>\n",
       "      <td>1.0</td>\n",
       "      <td>2022-01-05</td>\n",
       "      <td>1.0</td>\n",
       "      <td>3</td>\n",
       "      <td>train</td>\n",
       "      <td>foo</td>\n",
       "    </tr>\n",
       "  </tbody>\n",
       "</table>\n",
       "</div>"
      ],
      "text/plain": [
       "     A          B    C  D      E    F\n",
       "0  1.0 2022-01-05  1.0  3   test  foo\n",
       "2  1.0 2022-01-05  1.0  3   test  foo\n",
       "1  1.0 2022-01-05  1.0  3  train  foo\n",
       "3  1.0 2022-01-05  1.0  3  train  foo"
      ]
     },
     "execution_count": 13,
     "metadata": {},
     "output_type": "execute_result"
    }
   ],
   "source": [
    "# 类似的可以按值排序\n",
    "df.sort_values(by='E')   # 按'E'这一列的值排序，sort_values里面还有很多参数可以指定"
   ]
  },
  {
   "cell_type": "markdown",
   "metadata": {
    "id": "ZzbCreKPPaX5"
   },
   "source": [
    "# 数据选取"
   ]
  },
  {
   "cell_type": "code",
   "execution_count": 14,
   "metadata": {
    "id": "SWMQ2sw9PFcI"
   },
   "outputs": [],
   "source": [
    "dates = pd.date_range('20220105', periods=6)\n",
    "df2 = pd.DataFrame(np.arange(24).reshape((6,4)), index=dates, columns=['A','B','C','D'])"
   ]
  },
  {
   "cell_type": "code",
   "execution_count": 15,
   "metadata": {
    "colab": {
     "base_uri": "https://localhost:8080/"
    },
    "executionInfo": {
     "elapsed": 977,
     "status": "ok",
     "timestamp": 1641369674171,
     "user": {
      "displayName": "James Roger",
      "photoUrl": "https://lh3.googleusercontent.com/a-/AOh14Gg70YaTQVGbzM-Bad9qA0lbjkRJCYS8YLs18wWH_g=s64",
      "userId": "06136541211222501905"
     },
     "user_tz": -480
    },
    "id": "fbhWYCOdP80Y",
    "outputId": "3b0e2172-9a2d-4c90-eae1-6d435ab03261"
   },
   "outputs": [
    {
     "name": "stdout",
     "output_type": "stream",
     "text": [
      "2022-01-05     0\n",
      "2022-01-06     4\n",
      "2022-01-07     8\n",
      "2022-01-08    12\n",
      "2022-01-09    16\n",
      "2022-01-10    20\n",
      "Freq: D, Name: A, dtype: int64 2022-01-05     0\n",
      "2022-01-06     4\n",
      "2022-01-07     8\n",
      "2022-01-08    12\n",
      "2022-01-09    16\n",
      "2022-01-10    20\n",
      "Freq: D, Name: A, dtype: int64\n"
     ]
    }
   ],
   "source": [
    "print(df2['A'], df2.A)   # 两种打印方式，输出结果是一样的"
   ]
  },
  {
   "cell_type": "code",
   "execution_count": 16,
   "metadata": {
    "colab": {
     "base_uri": "https://localhost:8080/"
    },
    "executionInfo": {
     "elapsed": 504,
     "status": "ok",
     "timestamp": 1641369818472,
     "user": {
      "displayName": "James Roger",
      "photoUrl": "https://lh3.googleusercontent.com/a-/AOh14Gg70YaTQVGbzM-Bad9qA0lbjkRJCYS8YLs18wWH_g=s64",
      "userId": "06136541211222501905"
     },
     "user_tz": -480
    },
    "id": "ZtvrUBWXQLCo",
    "outputId": "2f8cb71c-d413-49b3-fd16-0b998aa89c1d"
   },
   "outputs": [
    {
     "name": "stdout",
     "output_type": "stream",
     "text": [
      "            A  B   C   D\n",
      "2022-01-05  0  1   2   3\n",
      "2022-01-06  4  5   6   7\n",
      "2022-01-07  8  9  10  11             A  B   C   D\n",
      "2022-01-05  0  1   2   3\n",
      "2022-01-06  4  5   6   7\n",
      "2022-01-07  8  9  10  11\n"
     ]
    }
   ],
   "source": [
    "print(df2[0:3], df2['20220105':'20220107'])   # 两种切片访问方式"
   ]
  },
  {
   "cell_type": "code",
   "execution_count": 17,
   "metadata": {
    "colab": {
     "base_uri": "https://localhost:8080/"
    },
    "executionInfo": {
     "elapsed": 463,
     "status": "ok",
     "timestamp": 1641369900726,
     "user": {
      "displayName": "James Roger",
      "photoUrl": "https://lh3.googleusercontent.com/a-/AOh14Gg70YaTQVGbzM-Bad9qA0lbjkRJCYS8YLs18wWH_g=s64",
      "userId": "06136541211222501905"
     },
     "user_tz": -480
    },
    "id": "TzeNhLm2QuWH",
    "outputId": "49f1b4e5-7979-4248-ab39-d5881b57b9da"
   },
   "outputs": [
    {
     "name": "stdout",
     "output_type": "stream",
     "text": [
      "A    0\n",
      "B    1\n",
      "C    2\n",
      "D    3\n",
      "Name: 2022-01-05 00:00:00, dtype: int64\n"
     ]
    }
   ],
   "source": [
    "# 根据标签选择\n",
    "print(df2.loc['20220105'])  # 选择该标签下的所有值列出"
   ]
  },
  {
   "cell_type": "code",
   "execution_count": 18,
   "metadata": {
    "colab": {
     "base_uri": "https://localhost:8080/"
    },
    "executionInfo": {
     "elapsed": 472,
     "status": "ok",
     "timestamp": 1641370030125,
     "user": {
      "displayName": "James Roger",
      "photoUrl": "https://lh3.googleusercontent.com/a-/AOh14Gg70YaTQVGbzM-Bad9qA0lbjkRJCYS8YLs18wWH_g=s64",
      "userId": "06136541211222501905"
     },
     "user_tz": -480
    },
    "id": "15b6fHrIRRJm",
    "outputId": "16f3b42c-edde-47fe-ed93-496b31a85b52"
   },
   "outputs": [
    {
     "name": "stdout",
     "output_type": "stream",
     "text": [
      "             A   B\n",
      "2022-01-05   0   1\n",
      "2022-01-06   4   5\n",
      "2022-01-07   8   9\n",
      "2022-01-08  12  13\n",
      "2022-01-09  16  17\n",
      "2022-01-10  20  21\n"
     ]
    }
   ],
   "source": [
    "print(df2.loc[:,['A','B']])   # 保留所有行的数据，然后把指定标签下列数据打印出来，也可以单独指定某一行"
   ]
  },
  {
   "cell_type": "code",
   "execution_count": 19,
   "metadata": {
    "colab": {
     "base_uri": "https://localhost:8080/"
    },
    "executionInfo": {
     "elapsed": 477,
     "status": "ok",
     "timestamp": 1641370091412,
     "user": {
      "displayName": "James Roger",
      "photoUrl": "https://lh3.googleusercontent.com/a-/AOh14Gg70YaTQVGbzM-Bad9qA0lbjkRJCYS8YLs18wWH_g=s64",
      "userId": "06136541211222501905"
     },
     "user_tz": -480
    },
    "id": "M71U8_SJRwvP",
    "outputId": "fed11143-b28d-4c7f-bb12-584ba3d7f7e0"
   },
   "outputs": [
    {
     "name": "stdout",
     "output_type": "stream",
     "text": [
      "A    0\n",
      "B    1\n",
      "Name: 2022-01-05 00:00:00, dtype: int64\n"
     ]
    }
   ],
   "source": [
    "print(df2.loc['20220105',['A','B']])"
   ]
  },
  {
   "cell_type": "code",
   "execution_count": 50,
   "metadata": {
    "colab": {
     "base_uri": "https://localhost:8080/"
    },
    "executionInfo": {
     "elapsed": 484,
     "status": "ok",
     "timestamp": 1641370206395,
     "user": {
      "displayName": "James Roger",
      "photoUrl": "https://lh3.googleusercontent.com/a-/AOh14Gg70YaTQVGbzM-Bad9qA0lbjkRJCYS8YLs18wWH_g=s64",
      "userId": "06136541211222501905"
     },
     "user_tz": -480
    },
    "id": "amaV0OOKSEZW",
    "outputId": "21dc03fe-be99-497c-fa4c-45768988d86c"
   },
   "outputs": [
    {
     "name": "stdout",
     "output_type": "stream",
     "text": [
      "[1. 1. 1. 1.]\n"
     ]
    }
   ],
   "source": [
    "# 根据index选择数据，上面的loc是根据label的方式\n",
    "print(df2.iloc[2].values)   # 第三行列出，只保留取值不要index索引"
   ]
  },
  {
   "cell_type": "code",
   "execution_count": 21,
   "metadata": {
    "colab": {
     "base_uri": "https://localhost:8080/"
    },
    "executionInfo": {
     "elapsed": 473,
     "status": "ok",
     "timestamp": 1641370252306,
     "user": {
      "displayName": "James Roger",
      "photoUrl": "https://lh3.googleusercontent.com/a-/AOh14Gg70YaTQVGbzM-Bad9qA0lbjkRJCYS8YLs18wWH_g=s64",
      "userId": "06136541211222501905"
     },
     "user_tz": -480
    },
    "id": "sIw52DuwSYnt",
    "outputId": "5f955c79-f850-48a1-ebcd-3cec1990b985"
   },
   "outputs": [
    {
     "name": "stdout",
     "output_type": "stream",
     "text": [
      "A    8\n",
      "B    9\n",
      "Name: 2022-01-07 00:00:00, dtype: int64\n"
     ]
    }
   ],
   "source": [
    "print(df2.iloc[2,0:2])    # 同样也可以切片"
   ]
  },
  {
   "cell_type": "code",
   "execution_count": 22,
   "metadata": {
    "colab": {
     "base_uri": "https://localhost:8080/"
    },
    "executionInfo": {
     "elapsed": 524,
     "status": "ok",
     "timestamp": 1641370313697,
     "user": {
      "displayName": "James Roger",
      "photoUrl": "https://lh3.googleusercontent.com/a-/AOh14Gg70YaTQVGbzM-Bad9qA0lbjkRJCYS8YLs18wWH_g=s64",
      "userId": "06136541211222501905"
     },
     "user_tz": -480
    },
    "id": "8tnFzwhlSm9F",
    "outputId": "d27b9574-82da-42b4-a93a-ec763e3ac70e"
   },
   "outputs": [
    {
     "name": "stdout",
     "output_type": "stream",
     "text": [
      "             A   B\n",
      "2022-01-05   0   1\n",
      "2022-01-07   8   9\n",
      "2022-01-09  16  17\n"
     ]
    }
   ],
   "source": [
    "print(df2.iloc[[0,2,4],0:2])   # 还可以单独拎出来几行 "
   ]
  },
  {
   "cell_type": "code",
   "execution_count": 23,
   "metadata": {
    "id": "TA_z6JkbTSj-"
   },
   "outputs": [],
   "source": [
    "# 还可以将label和index结合在一起筛选\n",
    "#print(df2.ix[:3, ['A','C']])   # 最新版pandas库中已经删除这个方法了，不用就完事了"
   ]
  },
  {
   "cell_type": "code",
   "execution_count": 24,
   "metadata": {
    "colab": {
     "base_uri": "https://localhost:8080/"
    },
    "executionInfo": {
     "elapsed": 546,
     "status": "ok",
     "timestamp": 1641370938564,
     "user": {
      "displayName": "James Roger",
      "photoUrl": "https://lh3.googleusercontent.com/a-/AOh14Gg70YaTQVGbzM-Bad9qA0lbjkRJCYS8YLs18wWH_g=s64",
      "userId": "06136541211222501905"
     },
     "user_tz": -480
    },
    "id": "tHb0Z7aZU8sa",
    "outputId": "f82fcd9b-5cd3-45bf-f1e8-2c8886300c9b"
   },
   "outputs": [
    {
     "name": "stdout",
     "output_type": "stream",
     "text": [
      "             A   B   C   D\n",
      "2022-01-08  12  13  14  15\n",
      "2022-01-09  16  17  18  19\n",
      "2022-01-10  20  21  22  23\n"
     ]
    }
   ],
   "source": [
    "print(df2[df2.A>8])   # 把指定列的值按条件筛选出一个新的dataframe"
   ]
  },
  {
   "cell_type": "markdown",
   "metadata": {
    "id": "qb_l_5MyVg1K"
   },
   "source": [
    "# 如何设置自己指定的值"
   ]
  },
  {
   "cell_type": "code",
   "execution_count": 25,
   "metadata": {
    "colab": {
     "base_uri": "https://localhost:8080/"
    },
    "executionInfo": {
     "elapsed": 517,
     "status": "ok",
     "timestamp": 1641372271631,
     "user": {
      "displayName": "James Roger",
      "photoUrl": "https://lh3.googleusercontent.com/a-/AOh14Gg70YaTQVGbzM-Bad9qA0lbjkRJCYS8YLs18wWH_g=s64",
      "userId": "06136541211222501905"
     },
     "user_tz": -480
    },
    "id": "uQKA7chkVCdh",
    "outputId": "909dc5fa-5248-4ca7-b155-8317527d56b8"
   },
   "outputs": [
    {
     "name": "stdout",
     "output_type": "stream",
     "text": [
      "            A   B    C   D   F  E\n",
      "2022-01-05  0   1    2   3 NaN  1\n",
      "2022-01-06  4   3    6   7 NaN  2\n",
      "2022-01-07  0   9  111  11 NaN  3\n",
      "2022-01-08  0  13   14  15 NaN  4\n",
      "2022-01-09  0  17   18  19 NaN  5\n",
      "2022-01-10  0  21   22  23 NaN  6\n"
     ]
    }
   ],
   "source": [
    "df2.iloc[2,2] = 111\n",
    "df2.loc['20220106','B'] = 3\n",
    "df2.loc[:,'A'][df2.A>4] = 0  # 或者df2.A[df2.A>4] = 0把对应筛选的那一列值全置为0\n",
    "df2['F'] = np.nan   # 增加一列全为空值，none\n",
    "df2['E'] = pd.Series([1,2,3,4,5,6], index = pd.date_range('20220105', periods=6))  # 这里添加的时候index一定要一致，否则显然无法添加\n",
    "print(df2)"
   ]
  },
  {
   "cell_type": "markdown",
   "metadata": {
    "id": "HzE2Gve3aeFx"
   },
   "source": [
    "# 处理丢失数据（缺失值）"
   ]
  },
  {
   "cell_type": "code",
   "execution_count": 26,
   "metadata": {
    "id": "CaZYCLmeahi7"
   },
   "outputs": [],
   "source": [
    "df2.iloc[0,2] = np.nan"
   ]
  },
  {
   "cell_type": "code",
   "execution_count": 27,
   "metadata": {
    "colab": {
     "base_uri": "https://localhost:8080/"
    },
    "executionInfo": {
     "elapsed": 496,
     "status": "ok",
     "timestamp": 1641374170389,
     "user": {
      "displayName": "James Roger",
      "photoUrl": "https://lh3.googleusercontent.com/a-/AOh14Gg70YaTQVGbzM-Bad9qA0lbjkRJCYS8YLs18wWH_g=s64",
      "userId": "06136541211222501905"
     },
     "user_tz": -480
    },
    "id": "WEGd3vbrhiAl",
    "outputId": "66533180-f48c-46f1-a07e-7df8b990ae40"
   },
   "outputs": [
    {
     "name": "stdout",
     "output_type": "stream",
     "text": [
      "            A   B      C   D   F  E\n",
      "2022-01-05  0   1    NaN   3 NaN  1\n",
      "2022-01-06  4   3    6.0   7 NaN  2\n",
      "2022-01-07  0   9  111.0  11 NaN  3\n",
      "2022-01-08  0  13   14.0  15 NaN  4\n",
      "2022-01-09  0  17   18.0  19 NaN  5\n",
      "2022-01-10  0  21   22.0  23 NaN  6\n"
     ]
    }
   ],
   "source": [
    "print(df2)"
   ]
  },
  {
   "cell_type": "code",
   "execution_count": 28,
   "metadata": {
    "colab": {
     "base_uri": "https://localhost:8080/"
    },
    "executionInfo": {
     "elapsed": 478,
     "status": "ok",
     "timestamp": 1641374327384,
     "user": {
      "displayName": "James Roger",
      "photoUrl": "https://lh3.googleusercontent.com/a-/AOh14Gg70YaTQVGbzM-Bad9qA0lbjkRJCYS8YLs18wWH_g=s64",
      "userId": "06136541211222501905"
     },
     "user_tz": -480
    },
    "id": "s1anfFJrhjaE",
    "outputId": "9e97aebb-3d0a-42ab-9a6e-ce172ac9384b"
   },
   "outputs": [
    {
     "name": "stdout",
     "output_type": "stream",
     "text": [
      "            A   B   D  E\n",
      "2022-01-05  0   1   3  1\n",
      "2022-01-06  4   3   7  2\n",
      "2022-01-07  0   9  11  3\n",
      "2022-01-08  0  13  15  4\n",
      "2022-01-09  0  17  19  5\n",
      "2022-01-10  0  21  23  6\n"
     ]
    }
   ],
   "source": [
    "# 第一种方式，直接丢掉缺失数据所在的行或者列\n",
    "print(df2.dropna(axis=1, how='any'))  # 任意列包含缺失值就直接舍弃，如果how='all'则要求所有值都是none才丢掉"
   ]
  },
  {
   "cell_type": "code",
   "execution_count": 29,
   "metadata": {
    "colab": {
     "base_uri": "https://localhost:8080/"
    },
    "executionInfo": {
     "elapsed": 502,
     "status": "ok",
     "timestamp": 1641374420240,
     "user": {
      "displayName": "James Roger",
      "photoUrl": "https://lh3.googleusercontent.com/a-/AOh14Gg70YaTQVGbzM-Bad9qA0lbjkRJCYS8YLs18wWH_g=s64",
      "userId": "06136541211222501905"
     },
     "user_tz": -480
    },
    "id": "IHzp2s0BiB4d",
    "outputId": "bb2575bc-1e4b-461c-a305-c86ec03bdff6"
   },
   "outputs": [
    {
     "name": "stdout",
     "output_type": "stream",
     "text": [
      "            A   B      C   D    F  E\n",
      "2022-01-05  0   1    0.0   3  0.0  1\n",
      "2022-01-06  4   3    6.0   7  0.0  2\n",
      "2022-01-07  0   9  111.0  11  0.0  3\n",
      "2022-01-08  0  13   14.0  15  0.0  4\n",
      "2022-01-09  0  17   18.0  19  0.0  5\n",
      "2022-01-10  0  21   22.0  23  0.0  6\n"
     ]
    }
   ],
   "source": [
    "# 第二种方式，填充值\n",
    "print(df2.fillna(value=0))"
   ]
  },
  {
   "cell_type": "code",
   "execution_count": 30,
   "metadata": {
    "colab": {
     "base_uri": "https://localhost:8080/"
    },
    "executionInfo": {
     "elapsed": 476,
     "status": "ok",
     "timestamp": 1641374606405,
     "user": {
      "displayName": "James Roger",
      "photoUrl": "https://lh3.googleusercontent.com/a-/AOh14Gg70YaTQVGbzM-Bad9qA0lbjkRJCYS8YLs18wWH_g=s64",
      "userId": "06136541211222501905"
     },
     "user_tz": -480
    },
    "id": "FLr7PdVXigjP",
    "outputId": "d354972a-43ef-4b56-d0e6-7ad5d83de80c"
   },
   "outputs": [
    {
     "name": "stdout",
     "output_type": "stream",
     "text": [
      "            A  B  C  D  F  E\n",
      "2022-01-05  0  0  1  0  1  0\n",
      "2022-01-06  0  0  0  0  1  0\n",
      "2022-01-07  0  0  0  0  1  0\n",
      "2022-01-08  0  0  0  0  1  0\n",
      "2022-01-09  0  0  0  0  1  0\n",
      "2022-01-10  0  0  0  0  1  0\n",
      "True\n"
     ]
    }
   ],
   "source": [
    "# 判断是否由缺失值\n",
    "print(df2.isnull().astype('int32'))\n",
    "print(np.any(df2.isnull()) == True)  # 至少有一个丢失都会返回True"
   ]
  },
  {
   "cell_type": "markdown",
   "metadata": {
    "id": "qykSyoWawveU"
   },
   "source": [
    "# pandas合并concat"
   ]
  },
  {
   "cell_type": "code",
   "execution_count": 31,
   "metadata": {
    "colab": {
     "base_uri": "https://localhost:8080/"
    },
    "executionInfo": {
     "elapsed": 1905,
     "status": "ok",
     "timestamp": 1641378326539,
     "user": {
      "displayName": "James Roger",
      "photoUrl": "https://lh3.googleusercontent.com/a-/AOh14Gg70YaTQVGbzM-Bad9qA0lbjkRJCYS8YLs18wWH_g=s64",
      "userId": "06136541211222501905"
     },
     "user_tz": -480
    },
    "id": "68Nzy8-uwzPs",
    "outputId": "8ff0ec5c-6c6e-450a-9f3d-ce7df78a4b98"
   },
   "outputs": [
    {
     "name": "stdout",
     "output_type": "stream",
     "text": [
      "     a    b    c    d\n",
      "0  0.0  0.0  0.0  0.0\n",
      "1  0.0  0.0  0.0  0.0\n",
      "2  0.0  0.0  0.0  0.0\n",
      "3  1.0  1.0  1.0  1.0\n",
      "4  1.0  1.0  1.0  1.0\n",
      "5  1.0  1.0  1.0  1.0\n",
      "6  2.0  2.0  2.0  2.0\n",
      "7  2.0  2.0  2.0  2.0\n",
      "8  2.0  2.0  2.0  2.0\n"
     ]
    }
   ],
   "source": [
    "df1 = pd.DataFrame(np.ones((3,4))*0, columns=['a','b','c','d'])\n",
    "df2 = pd.DataFrame(np.ones((3,4))*1, columns=['a','b','c','d'])\n",
    "df3 = pd.DataFrame(np.ones((3,4))*2, columns=['a','b','c','d'])\n",
    "\n",
    "res = pd.concat([df1,df2,df3], axis=0, ignore_index=True)  # 从上到下合并\n",
    "print(res)"
   ]
  },
  {
   "cell_type": "code",
   "execution_count": 32,
   "metadata": {
    "colab": {
     "base_uri": "https://localhost:8080/"
    },
    "executionInfo": {
     "elapsed": 528,
     "status": "ok",
     "timestamp": 1641378633219,
     "user": {
      "displayName": "James Roger",
      "photoUrl": "https://lh3.googleusercontent.com/a-/AOh14Gg70YaTQVGbzM-Bad9qA0lbjkRJCYS8YLs18wWH_g=s64",
      "userId": "06136541211222501905"
     },
     "user_tz": -480
    },
    "id": "ePQ9EqwnyBmD",
    "outputId": "1f2201cd-ef3c-4a03-f93d-b9e32b22f276"
   },
   "outputs": [
    {
     "name": "stdout",
     "output_type": "stream",
     "text": [
      "     b    c    d\n",
      "0  0.0  0.0  0.0\n",
      "1  0.0  0.0  0.0\n",
      "2  0.0  0.0  0.0\n",
      "3  1.0  1.0  1.0\n",
      "4  1.0  1.0  1.0\n",
      "5  1.0  1.0  1.0\n",
      "6  2.0  2.0  2.0\n",
      "7  2.0  2.0  2.0\n",
      "8  2.0  2.0  2.0\n",
      "     a    b    c    d    e\n",
      "0  0.0  0.0  0.0  0.0  NaN\n",
      "1  0.0  0.0  0.0  0.0  NaN\n",
      "2  0.0  0.0  0.0  0.0  NaN\n",
      "3  NaN  1.0  1.0  1.0  1.0\n",
      "4  NaN  1.0  1.0  1.0  1.0\n",
      "5  NaN  1.0  1.0  1.0  1.0\n",
      "6  2.0  2.0  2.0  2.0  NaN\n",
      "7  2.0  2.0  2.0  2.0  NaN\n",
      "8  2.0  2.0  2.0  2.0  NaN\n"
     ]
    }
   ],
   "source": [
    "df1 = pd.DataFrame(np.ones((3,4))*0, columns=['a','b','c','d'], index=[1,2,3])\n",
    "df2 = pd.DataFrame(np.ones((3,4))*1, columns=['b','c','d','e'], index=[2,3,4])\n",
    "res1 = pd.concat([df1,df2,df3], join='inner', ignore_index=True)\n",
    "res2 = pd.concat([df1,df2,df3], join='outer', ignore_index=True)   # 两种join参数区别\n",
    "print(res1)\n",
    "print(res2)"
   ]
  },
  {
   "cell_type": "code",
   "execution_count": 33,
   "metadata": {
    "id": "VZXqtkMkyk8j"
   },
   "outputs": [],
   "source": [
    "# res3 = pd.concat([df1,df2], axis=1, jion_axes=[df1.index]) 新的版本中已经删除了jion_axes这个参数，用来指定用哪一个dataframe的index来做合并\n",
    "# print(res3)"
   ]
  },
  {
   "cell_type": "code",
   "execution_count": 34,
   "metadata": {
    "colab": {
     "base_uri": "https://localhost:8080/"
    },
    "executionInfo": {
     "elapsed": 489,
     "status": "ok",
     "timestamp": 1641379244350,
     "user": {
      "displayName": "James Roger",
      "photoUrl": "https://lh3.googleusercontent.com/a-/AOh14Gg70YaTQVGbzM-Bad9qA0lbjkRJCYS8YLs18wWH_g=s64",
      "userId": "06136541211222501905"
     },
     "user_tz": -480
    },
    "id": "ZFOchhD6zNLt",
    "outputId": "a4dada26-d166-4625-9cd0-ff54472e2c98"
   },
   "outputs": [
    {
     "name": "stdout",
     "output_type": "stream",
     "text": [
      "     a    b    c    d\n",
      "0  0.0  0.0  0.0  0.0\n",
      "1  0.0  0.0  0.0  0.0\n",
      "2  0.0  0.0  0.0  0.0\n",
      "3  1.0  2.0  3.0  4.0\n",
      "     a    b    c    d    e\n",
      "0  0.0  0.0  0.0  0.0  NaN\n",
      "1  0.0  0.0  0.0  0.0  NaN\n",
      "2  0.0  0.0  0.0  0.0  NaN\n",
      "3  NaN  1.0  1.0  1.0  1.0\n",
      "4  NaN  1.0  1.0  1.0  1.0\n",
      "5  NaN  1.0  1.0  1.0  1.0\n"
     ]
    }
   ],
   "source": [
    "# 利用append添加合并\n",
    "s1 = pd.Series([1,2,3,4], index=['a','b','c','d'])\n",
    "res3 = df1.append(s1, ignore_index=True)\n",
    "res4 = df1.append(df2, ignore_index=True)  # 也可以两个以上dataframe添加\n",
    "print(res3)\n",
    "print(res4)"
   ]
  },
  {
   "cell_type": "markdown",
   "metadata": {
    "id": "-hS_Bbnh17NZ"
   },
   "source": [
    "# pandas合并merge"
   ]
  },
  {
   "cell_type": "code",
   "execution_count": 35,
   "metadata": {
    "colab": {
     "base_uri": "https://localhost:8080/"
    },
    "executionInfo": {
     "elapsed": 397,
     "status": "ok",
     "timestamp": 1641454684744,
     "user": {
      "displayName": "James Roger",
      "photoUrl": "https://lh3.googleusercontent.com/a-/AOh14Gg70YaTQVGbzM-Bad9qA0lbjkRJCYS8YLs18wWH_g=s64",
      "userId": "06136541211222501905"
     },
     "user_tz": -480
    },
    "id": "oTv8-zs41_CA",
    "outputId": "b4075584-273d-4bb9-cc09-daf74ada2976"
   },
   "outputs": [
    {
     "name": "stdout",
     "output_type": "stream",
     "text": [
      "  key1 key2   A   B\n",
      "0   K0   K0  A0  B0\n",
      "1   K0   K1  A1  B1\n",
      "2   K1   K0  A2  B2\n",
      "3   K2   K1  A3  B3\n",
      "  key1 key2   C   D\n",
      "0   K0   K0  C0  D0\n",
      "1   K1   K0  C1  D1\n",
      "2   K1   K0  C2  D2\n",
      "3   K2   K0  C3  D3\n"
     ]
    }
   ],
   "source": [
    "left = pd.DataFrame({'key1':['K0','K0','K1','K2'],\n",
    "            'key2':['K0','K1','K0','K1'],         \n",
    "            'A':['A0','A1','A2','A3'],\n",
    "            'B':['B0','B1','B2','B3']})\n",
    "\n",
    "right = pd.DataFrame({'key1':['K0','K1','K1','K2'],\n",
    "            'key2':['K0','K0','K0','K0'],\n",
    "            'C':['C0','C1','C2','C3'],\n",
    "            'D':['D0','D1','D2','D3']})\n",
    "print(left)\n",
    "print(right)"
   ]
  },
  {
   "cell_type": "code",
   "execution_count": 36,
   "metadata": {
    "colab": {
     "base_uri": "https://localhost:8080/"
    },
    "executionInfo": {
     "elapsed": 391,
     "status": "ok",
     "timestamp": 1641454697838,
     "user": {
      "displayName": "James Roger",
      "photoUrl": "https://lh3.googleusercontent.com/a-/AOh14Gg70YaTQVGbzM-Bad9qA0lbjkRJCYS8YLs18wWH_g=s64",
      "userId": "06136541211222501905"
     },
     "user_tz": -480
    },
    "id": "W50oCXSnSib7",
    "outputId": "c2bc6010-7abb-4482-d709-406cd19b212b"
   },
   "outputs": [
    {
     "name": "stdout",
     "output_type": "stream",
     "text": [
      "  key1 key2_x   A   B key2_y   C   D\n",
      "0   K0     K0  A0  B0     K0  C0  D0\n",
      "1   K0     K1  A1  B1     K0  C0  D0\n",
      "2   K1     K0  A2  B2     K0  C1  D1\n",
      "3   K1     K0  A2  B2     K0  C2  D2\n",
      "4   K2     K1  A3  B3     K0  C3  D3\n"
     ]
    }
   ],
   "source": [
    "res = pd.merge(left, right, on='key1')  # 基于某一个label或者column的合并，默认的how方法是'inner'\n",
    "print(res)"
   ]
  },
  {
   "cell_type": "code",
   "execution_count": 37,
   "metadata": {
    "colab": {
     "base_uri": "https://localhost:8080/"
    },
    "executionInfo": {
     "elapsed": 385,
     "status": "ok",
     "timestamp": 1641454801261,
     "user": {
      "displayName": "James Roger",
      "photoUrl": "https://lh3.googleusercontent.com/a-/AOh14Gg70YaTQVGbzM-Bad9qA0lbjkRJCYS8YLs18wWH_g=s64",
      "userId": "06136541211222501905"
     },
     "user_tz": -480
    },
    "id": "XhnP90x5TFIy",
    "outputId": "0af341c2-19fe-4e2e-9fd8-d2b772be6136"
   },
   "outputs": [
    {
     "name": "stdout",
     "output_type": "stream",
     "text": [
      "  key1 key2   A   B   C   D\n",
      "0   K0   K0  A0  B0  C0  D0\n",
      "1   K1   K0  A2  B2  C1  D1\n",
      "2   K1   K0  A2  B2  C2  D2\n"
     ]
    }
   ],
   "source": [
    "res1 = pd.merge(left, right, on=['key1', 'key2'])\n",
    "print(res1)"
   ]
  },
  {
   "cell_type": "code",
   "execution_count": 38,
   "metadata": {
    "colab": {
     "base_uri": "https://localhost:8080/"
    },
    "executionInfo": {
     "elapsed": 382,
     "status": "ok",
     "timestamp": 1641454914742,
     "user": {
      "displayName": "James Roger",
      "photoUrl": "https://lh3.googleusercontent.com/a-/AOh14Gg70YaTQVGbzM-Bad9qA0lbjkRJCYS8YLs18wWH_g=s64",
      "userId": "06136541211222501905"
     },
     "user_tz": -480
    },
    "id": "P7mXkn9LVQPv",
    "outputId": "1b5d4222-949a-4f61-f9a0-d2d64f400186"
   },
   "outputs": [
    {
     "name": "stdout",
     "output_type": "stream",
     "text": [
      "  key1 key2    A    B    C    D\n",
      "0   K0   K0   A0   B0   C0   D0\n",
      "1   K0   K1   A1   B1  NaN  NaN\n",
      "2   K1   K0   A2   B2   C1   D1\n",
      "3   K1   K0   A2   B2   C2   D2\n",
      "4   K2   K1   A3   B3  NaN  NaN\n",
      "5   K2   K0  NaN  NaN   C3   D3\n"
     ]
    }
   ],
   "source": [
    "# how = ['inner','outer','left','right']\n",
    "res2 = pd.merge(left, right, on=['key1', 'key2'], how='outer')\n",
    "print(res2)"
   ]
  },
  {
   "cell_type": "code",
   "execution_count": 39,
   "metadata": {
    "colab": {
     "base_uri": "https://localhost:8080/"
    },
    "executionInfo": {
     "elapsed": 380,
     "status": "ok",
     "timestamp": 1641455093562,
     "user": {
      "displayName": "James Roger",
      "photoUrl": "https://lh3.googleusercontent.com/a-/AOh14Gg70YaTQVGbzM-Bad9qA0lbjkRJCYS8YLs18wWH_g=s64",
      "userId": "06136541211222501905"
     },
     "user_tz": -480
    },
    "id": "8GswHSO_VkPW",
    "outputId": "d2d0b13b-ae2e-4faf-f169-129f49c87056"
   },
   "outputs": [
    {
     "name": "stdout",
     "output_type": "stream",
     "text": [
      "   col1 col_left\n",
      "0     0        a\n",
      "1     1        b\n",
      "   col1  col_right\n",
      "0     1          2\n",
      "1     2          2\n",
      "2     2          2\n"
     ]
    }
   ],
   "source": [
    "col_left = pd.DataFrame({'col1':[0,1], 'col_left':['a','b']})\n",
    "col_right = pd.DataFrame({'col1':[1,2,2], 'col_right':[2,2,2]})\n",
    "print(col_left)\n",
    "print(col_right)"
   ]
  },
  {
   "cell_type": "code",
   "execution_count": 40,
   "metadata": {
    "colab": {
     "base_uri": "https://localhost:8080/"
    },
    "executionInfo": {
     "elapsed": 405,
     "status": "ok",
     "timestamp": 1641455234777,
     "user": {
      "displayName": "James Roger",
      "photoUrl": "https://lh3.googleusercontent.com/a-/AOh14Gg70YaTQVGbzM-Bad9qA0lbjkRJCYS8YLs18wWH_g=s64",
      "userId": "06136541211222501905"
     },
     "user_tz": -480
    },
    "id": "e_ErsKrHWQLX",
    "outputId": "975690f6-3641-4966-de9b-91fd3bcefae1"
   },
   "outputs": [
    {
     "name": "stdout",
     "output_type": "stream",
     "text": [
      "   col1 col_left  col_right      _merge\n",
      "0     0        a        NaN   left_only\n",
      "1     1        b        2.0        both\n",
      "2     2      NaN        2.0  right_only\n",
      "3     2      NaN        2.0  right_only\n"
     ]
    }
   ],
   "source": [
    "res3 = pd.merge(col_left, col_right, on='col1', how='outer', indicator=True)   # indicator表示显示合并方式的名称\n",
    "print(res3)"
   ]
  },
  {
   "cell_type": "code",
   "execution_count": 41,
   "metadata": {
    "colab": {
     "base_uri": "https://localhost:8080/"
    },
    "executionInfo": {
     "elapsed": 393,
     "status": "ok",
     "timestamp": 1641455320565,
     "user": {
      "displayName": "James Roger",
      "photoUrl": "https://lh3.googleusercontent.com/a-/AOh14Gg70YaTQVGbzM-Bad9qA0lbjkRJCYS8YLs18wWH_g=s64",
      "userId": "06136541211222501905"
     },
     "user_tz": -480
    },
    "id": "wBoLh3RdWyY-",
    "outputId": "a0fcc8e3-3272-4879-c463-d9d97dcd1453"
   },
   "outputs": [
    {
     "name": "stdout",
     "output_type": "stream",
     "text": [
      "   col1_x col_left  col1_y  col_right\n",
      "0     0.0        a       1          2\n",
      "1     1.0        b       2          2\n",
      "2     NaN      NaN       2          2\n"
     ]
    }
   ],
   "source": [
    "# 按index合并\n",
    "res4 = pd.merge(col_left, col_right, left_index=True, right_index=True, how='outer')\n",
    "print(res4)"
   ]
  },
  {
   "cell_type": "markdown",
   "metadata": {
    "id": "qNrTaHLVXHhC"
   },
   "source": [
    "## pandas处理独热编码one-hot"
   ]
  },
  {
   "cell_type": "code",
   "execution_count": 42,
   "metadata": {},
   "outputs": [],
   "source": [
    "s1 = ['a', 'b', np.nan]"
   ]
  },
  {
   "cell_type": "code",
   "execution_count": 43,
   "metadata": {},
   "outputs": [
    {
     "data": {
      "text/html": [
       "<div>\n",
       "<style scoped>\n",
       "    .dataframe tbody tr th:only-of-type {\n",
       "        vertical-align: middle;\n",
       "    }\n",
       "\n",
       "    .dataframe tbody tr th {\n",
       "        vertical-align: top;\n",
       "    }\n",
       "\n",
       "    .dataframe thead th {\n",
       "        text-align: right;\n",
       "    }\n",
       "</style>\n",
       "<table border=\"1\" class=\"dataframe\">\n",
       "  <thead>\n",
       "    <tr style=\"text-align: right;\">\n",
       "      <th></th>\n",
       "      <th>a</th>\n",
       "      <th>b</th>\n",
       "    </tr>\n",
       "  </thead>\n",
       "  <tbody>\n",
       "    <tr>\n",
       "      <th>0</th>\n",
       "      <td>1</td>\n",
       "      <td>0</td>\n",
       "    </tr>\n",
       "    <tr>\n",
       "      <th>1</th>\n",
       "      <td>0</td>\n",
       "      <td>1</td>\n",
       "    </tr>\n",
       "    <tr>\n",
       "      <th>2</th>\n",
       "      <td>0</td>\n",
       "      <td>0</td>\n",
       "    </tr>\n",
       "  </tbody>\n",
       "</table>\n",
       "</div>"
      ],
      "text/plain": [
       "   a  b\n",
       "0  1  0\n",
       "1  0  1\n",
       "2  0  0"
      ]
     },
     "execution_count": 43,
     "metadata": {},
     "output_type": "execute_result"
    }
   ],
   "source": [
    "pd.get_dummies(s1)   # 自动忽略缺失值"
   ]
  },
  {
   "cell_type": "code",
   "execution_count": 44,
   "metadata": {},
   "outputs": [
    {
     "data": {
      "text/html": [
       "<div>\n",
       "<style scoped>\n",
       "    .dataframe tbody tr th:only-of-type {\n",
       "        vertical-align: middle;\n",
       "    }\n",
       "\n",
       "    .dataframe tbody tr th {\n",
       "        vertical-align: top;\n",
       "    }\n",
       "\n",
       "    .dataframe thead th {\n",
       "        text-align: right;\n",
       "    }\n",
       "</style>\n",
       "<table border=\"1\" class=\"dataframe\">\n",
       "  <thead>\n",
       "    <tr style=\"text-align: right;\">\n",
       "      <th></th>\n",
       "      <th>a</th>\n",
       "      <th>b</th>\n",
       "      <th>NaN</th>\n",
       "    </tr>\n",
       "  </thead>\n",
       "  <tbody>\n",
       "    <tr>\n",
       "      <th>0</th>\n",
       "      <td>1</td>\n",
       "      <td>0</td>\n",
       "      <td>0</td>\n",
       "    </tr>\n",
       "    <tr>\n",
       "      <th>1</th>\n",
       "      <td>0</td>\n",
       "      <td>1</td>\n",
       "      <td>0</td>\n",
       "    </tr>\n",
       "    <tr>\n",
       "      <th>2</th>\n",
       "      <td>0</td>\n",
       "      <td>0</td>\n",
       "      <td>1</td>\n",
       "    </tr>\n",
       "  </tbody>\n",
       "</table>\n",
       "</div>"
      ],
      "text/plain": [
       "   a  b  NaN\n",
       "0  1  0    0\n",
       "1  0  1    0\n",
       "2  0  0    1"
      ]
     },
     "execution_count": 44,
     "metadata": {},
     "output_type": "execute_result"
    }
   ],
   "source": [
    "pd.get_dummies(s1, dummy_na=True)    # 把缺失值也进行独热"
   ]
  },
  {
   "cell_type": "markdown",
   "metadata": {},
   "source": [
    "# 使用另一dataframe作为当前dataframe的筛选条件"
   ]
  },
  {
   "cell_type": "code",
   "execution_count": 45,
   "metadata": {},
   "outputs": [
    {
     "data": {
      "text/plain": [
       "2"
      ]
     },
     "execution_count": 45,
     "metadata": {},
     "output_type": "execute_result"
    }
   ],
   "source": [
    "import numpy as np\n",
    "import pandas as pd\n",
    "df = pd.DataFrame({ 'A' : [1,2,3,4],\n",
    "                     'B' : [4,5,6,7]\n",
    "                  })  \n",
    "a = pd.Series([1,2,3,1])\n",
    "\n",
    "# 对series进行筛选\n",
    "(a==1).sum()"
   ]
  },
  {
   "cell_type": "code",
   "execution_count": 46,
   "metadata": {},
   "outputs": [
    {
     "data": {
      "text/plain": [
       "A     5\n",
       "B    11\n",
       "dtype: int64"
      ]
     },
     "execution_count": 46,
     "metadata": {},
     "output_type": "execute_result"
    }
   ],
   "source": [
    "# 对dataframe进行筛选\n",
    "df[a==1].sum(0)"
   ]
  },
  {
   "cell_type": "code",
   "execution_count": 4,
   "metadata": {},
   "outputs": [
    {
     "name": "stdout",
     "output_type": "stream",
     "text": [
      "     id    name             url  likes\n",
      "0  A001    菜鸟教程  www.runoob.com     61\n",
      "1  A002  Google  www.google.com    124\n",
      "2  A003      淘宝  www.taobao.com     45\n"
     ]
    }
   ],
   "source": [
    "# 还可以读取json文件（csv这种就不说了，过于基础）\n",
    "URL = 'https://static.runoob.com/download/sites.json'\n",
    "df = pd.read_json(URL)\n",
    "print(df)"
   ]
  }
 ],
 "metadata": {
  "colab": {
   "authorship_tag": "ABX9TyNXY7IL4Z/AM6gbdcV0j9ER",
   "collapsed_sections": [
    "1pfP2AeCPVPT",
    "ZzbCreKPPaX5",
    "qb_l_5MyVg1K",
    "HzE2Gve3aeFx",
    "qykSyoWawveU"
   ],
   "name": "Pandas_Basic.ipynb",
   "provenance": [],
   "toc_visible": true
  },
  "kernelspec": {
   "display_name": "Python 3.8.5 ('pytorch_gpu')",
   "language": "python",
   "name": "python3"
  },
  "language_info": {
   "codemirror_mode": {
    "name": "ipython",
    "version": 3
   },
   "file_extension": ".py",
   "mimetype": "text/x-python",
   "name": "python",
   "nbconvert_exporter": "python",
   "pygments_lexer": "ipython3",
   "version": "3.8.5"
  },
  "vscode": {
   "interpreter": {
    "hash": "2679cf41411127fad6b4c826b494c1155011be46cd2606cdd62e601481ef25df"
   }
  }
 },
 "nbformat": 4,
 "nbformat_minor": 4
}
