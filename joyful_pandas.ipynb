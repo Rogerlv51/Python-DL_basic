{
 "cells": [
  {
   "cell_type": "code",
   "execution_count": 1,
   "metadata": {},
   "outputs": [],
   "source": [
    "import pandas as pd\n",
    "import numpy as np"
   ]
  },
  {
   "cell_type": "markdown",
   "metadata": {},
   "source": [
    "## 第二章 Pandas基础"
   ]
  },
  {
   "cell_type": "code",
   "execution_count": 5,
   "metadata": {},
   "outputs": [
    {
     "name": "stdout",
     "output_type": "stream",
     "text": [
      "              col1 |||| col2\n",
      "0  TS |||| This is an apple.\n",
      "1    GQ |||| My name is Bob.\n",
      "2         WT |||| Well done!\n",
      "  col1                 col2\n",
      "0   TS    This is an apple.\n",
      "1   GQ      My name is Bob.\n",
      "2   WT           Well done!\n"
     ]
    }
   ],
   "source": [
    "# 在读取 txt 文件时，经常遇到分隔符非空格的情况，read_table 有一个分割参数 sep ，\n",
    "# 它使得用户可以自定 义分割符号，进行 txt 数据的读取\n",
    "table1 = pd.read_table('ch2/my_table_special_sep.txt')   # 不使用sep时\n",
    "print(table1)\n",
    "table2 = pd.read_table('ch2/my_table_special_sep.txt', sep=\"\\|\\|\\|\\|\", engine='python')  \n",
    "# 注意使用转依字符，||||分隔，同时指定为python引擎，参数 sep 中使用的是正则表达式\n",
    "print(table2)"
   ]
  }
 ],
 "metadata": {
  "kernelspec": {
   "display_name": "Python 3.8.5 ('pytorch_gpu')",
   "language": "python",
   "name": "python3"
  },
  "language_info": {
   "codemirror_mode": {
    "name": "ipython",
    "version": 3
   },
   "file_extension": ".py",
   "mimetype": "text/x-python",
   "name": "python",
   "nbconvert_exporter": "python",
   "pygments_lexer": "ipython3",
   "version": "3.8.5"
  },
  "orig_nbformat": 4,
  "vscode": {
   "interpreter": {
    "hash": "2679cf41411127fad6b4c826b494c1155011be46cd2606cdd62e601481ef25df"
   }
  }
 },
 "nbformat": 4,
 "nbformat_minor": 2
}
